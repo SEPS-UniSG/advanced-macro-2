{
  "cells": [
    {
      "cell_type": "markdown",
      "metadata": {
        "id": "K4_SMX1W0pki"
      },
      "source": [
        "# Advanced Macro II - Investment\n"
      ]
    },
    {
      "cell_type": "code",
      "execution_count": null,
      "metadata": {
        "id": "Lvz7zstJBzec"
      },
      "outputs": [],
      "source": [
        "# Import necessary libraries\n",
        "# Plotting library, including specific imports for animations\n",
        "import matplotlib.pyplot as plt\n",
        "from matplotlib import rc\n",
        "import matplotlib.animation as animation\n",
        "# Numerical computing library\n",
        "import numpy as np\n",
        "# Special option to display animations within a Colab notebok\n",
        "rc('animation', html='jshtml')\n",
        "# Optimzier\n",
        "from scipy import optimize\n",
        "\n",
        "import warnings\n",
        "warnings.filterwarnings('ignore')"
      ]
    },
    {
      "cell_type": "code",
      "execution_count": null,
      "metadata": {
        "id": "g6WN34ziB5GE"
      },
      "outputs": [],
      "source": [
        "# Set the exogenous variables\n",
        "r = 0.04      # Interest rate\n",
        "alpha = 0.4   # Capital share of output\n",
        "A = 1         # Total factor productivity\n",
        "delta = 0.1  # Rate of depreciation"
      ]
    },
    {
      "cell_type": "markdown",
      "metadata": {
        "id": "1UH8nl_N2ycs"
      },
      "source": [
        "# Laws of motion of the economy\n",
        "Recall that the equations governing the dynamics of the model are given by the optimality conditions.\n",
        "These three equations build a *system of differential equations*. Solving such systems by hand is generally hard, however, with programming languages we can let computers do the heavy lifting for us.\n",
        "\n",
        "In this notebook, we will take a look at a graphical solution for these equations, also known phase diagrams, as well as a numerical solution using Python. While there exist packages to solve differential equations such as [SciPy](https://www.scipy.org/), we will write our own implementation as this is more educational.\n"
      ]
    },
    {
      "cell_type": "markdown",
      "metadata": {
        "id": "uWXDgb2PC3Zo"
      },
      "source": [
        "# Solving for the equilibrium values"
      ]
    },
    {
      "cell_type": "code",
      "execution_count": null,
      "metadata": {
        "colab": {
          "base_uri": "https://localhost:8080/"
        },
        "id": "rp8EQnmSHPZw",
        "outputId": "36f06ff5-d473-4664-8158-4059a323bd38"
      },
      "outputs": [],
      "source": [
        "# Create a function for the q locus\n",
        "def q_loc(x):\n",
        "    return alpha * A * x**(alpha - 1) / (r + delta)\n",
        "\n",
        "# Create a function for the K locus\n",
        "def K_loc(x):\n",
        "  return 1+ delta*x\n",
        "\n",
        "# Compute K* using the above functions\n",
        "def K_root(x):\n",
        "  return q_loc(x)-K_loc(x)\n",
        "\n",
        "K_star = optimize.fsolve(K_root, 1.0)\n",
        "\n",
        "# Display the result\n",
        "print(K_star)"
      ]
    },
    {
      "cell_type": "code",
      "execution_count": null,
      "metadata": {
        "colab": {
          "base_uri": "https://localhost:8080/"
        },
        "id": "AeWFcY-kL0yT",
        "outputId": "c36f191e-b2d0-4e7b-8085-f462897443ec"
      },
      "outputs": [],
      "source": [
        "# q* is then determined by\n",
        "q_star = K_loc(K_star)\n",
        "\n",
        "# Display the result\n",
        "print(q_star)\n"
      ]
    },
    {
      "cell_type": "markdown",
      "metadata": {
        "id": "VmQRQYK6OgGa"
      },
      "source": [
        "# Plotting the dynamics of $q$ and $K$\n",
        "Now that we have computed the necessary information, we can set up the phase diagram\n"
      ]
    },
    {
      "cell_type": "code",
      "execution_count": null,
      "metadata": {
        "colab": {
          "base_uri": "https://localhost:8080/",
          "height": 718
        },
        "id": "oIE1QMQuL007",
        "outputId": "f8a6c75c-05ce-4d38-9bc9-90a512585c4a"
      },
      "outputs": [],
      "source": [
        "# 1000 linearly spaced numbers between both points, this will be our x-axis\n",
        "K = np.linspace(K_star*0.15, K_star*2, 1000)\n",
        "\n",
        "# Set up a figure\n",
        "fig, ax = plt.subplots(figsize = (12, 8))\n",
        "\n",
        "# Add a blue line with x values given by K and y values given by q_loc(K)\n",
        "ax.plot(K, q_loc(K), color = 'blue', label = r'$\\dot{q}=0$')\n",
        "\n",
        "# Add a green line with x values given by K and y values given by K_loc(x)\n",
        "ax.plot(K, K_loc(K), color = 'green', label = r'$\\dot{K}=0$')\n",
        "ax.set_xlabel(\"K\")                        # Add x-axis label\n",
        "ax.set_ylabel(\"q\")                        # Add y-axis label\n",
        "ax.set_title(\"The phase diagram\")   # Add plot title\n",
        "ax.grid()                                 # Add a grid in the background\n",
        "ax.legend()                               # Add legend (show labels top right)\n",
        "plt.show()                                # Display the plot"
      ]
    },
    {
      "cell_type": "markdown",
      "metadata": {
        "id": "I5-QKKHvWCDM"
      },
      "source": [
        "We have not yet added the arrows which show the dynamics of the system. While we could add them manually, this is bothersome as we would need to write some code for each individual arrow. Instead, we'll make use of the tools `matplotlib` offers and create a so called *quiver plot*. Quiver plots are vector fields which can be used to show the dynamics of a system and are very common when dealing with differential equations.\n",
        "\n",
        "Quiver plots allow us to plot a grid of arrows/vectors, where each vector represents both the direction (vector orientation) and intensity (vector length) of changes within the dynamical system."
      ]
    },
    {
      "cell_type": "code",
      "execution_count": null,
      "metadata": {
        "id": "v0H0lw6ha5gL"
      },
      "outputs": [],
      "source": [
        "# In order to compute the direction and intensity of changes within the system,\n",
        "# we need to set up a few functions allowing us to measure the underlying differential equations\n",
        "\n",
        "# Create a function to compute the derivative of the production function\n",
        "def f_prime(x):\n",
        "  return alpha*A*x**(alpha-1)\n",
        "\n",
        "# Create a function for the derivative of K(t) w.r.t time\n",
        "def K_dot(K, q):\n",
        "  return -1 + q - delta * K\n",
        "\n",
        "# Create a function for the derivative of q(t) w.r.t. time\n",
        "def q_dot(K, q):\n",
        "  return (r+delta)*q - f_prime(K)"
      ]
    },
    {
      "cell_type": "code",
      "execution_count": null,
      "metadata": {
        "colab": {
          "base_uri": "https://localhost:8080/",
          "height": 889
        },
        "id": "7uSgsOVGL03L",
        "outputId": "833af317-d6ad-4258-c3cf-a5b089a06130"
      },
      "outputs": [],
      "source": [
        "# Set up the vector grid parameters\n",
        "n_points = 10\n",
        "# Create a grid (for the points on the plot where vectors are drawn)\n",
        "x, y = np.meshgrid(\n",
        "    np.linspace(min(K), max(K), n_points),\n",
        "    np.linspace(q_star*0.1, K_loc(max(K))*2.2, n_points))\n",
        "# Compute the x component of each vector\n",
        "u = K_dot(x, y)\n",
        "# Compute the y component of each vector\n",
        "v = q_dot(x, y)\n",
        "# Create a figure\n",
        "fig, ax = plt.subplots(figsize = (14, 10))\n",
        "# Add a blue line with x values given by k and y values given by q_loc\n",
        "ax.plot(K, q_loc(K), color = 'blue', label = r'$\\dot{q}=0$')\n",
        "# Add a green line with x values given by k and y values given by K_loc\n",
        "ax.plot(K, K_loc(K), color = 'green', label = r'$\\dot{K}=0$')\n",
        "# Add a single black point at (x, y) = (K*, q*), this is our equilibrium\n",
        "ax.plot([K_star], [K_loc(K_star)], 'o', color = 'black')\n",
        "# Annotate the point with the letter D\n",
        "ax.annotate('D', xy = (K_star, K_loc(K_star)+0.1), size = 20)\n",
        "# Add the vector field, showing how the dynamics of the system behave\n",
        "ax.quiver(x, y, u, v, pivot = 'mid', color = 'gray', angles='xy',\n",
        "           scale_units='xy', scale = 5, minlength = 0.02)\n",
        "ax.set_xlabel(\"K\")                        # Add x-axis label\n",
        "ax.set_ylabel(\"q\")                        # Add y-axis label\n",
        "ax.set_title(\"The phase diagram with vector field\")   # Add plot title\n",
        "ax.grid()                                 # Add a grid in the background\n",
        "ax.legend()                               # Add legend (show labels top right)"
      ]
    },
    {
      "cell_type": "markdown",
      "metadata": {
        "id": "pTGOnL5smqFp"
      },
      "source": [
        "The above picture has the advantage of giving a better intuition about the full dynamics within the system. Indeed, it is much easier to see from this picture that some changes in the state of the economy will be much more drastic then others, depending on where the current state of the economy is."
      ]
    },
    {
      "cell_type": "markdown",
      "metadata": {
        "id": "RET6a_dZtCDq"
      },
      "source": [
        "We continue by building a function which, given an starting point $(K, q)$ on our plot, computes the evolution of the economy according to the law of motions defined above. The idea behind this function is a simple iteration through time, where at each time step we simply add the derivative $\\dot{K}$ to the current $K$ and the derivative $\\dot{q}$ to the current $q$."
      ]
    },
    {
      "cell_type": "code",
      "execution_count": null,
      "metadata": {
        "id": "PKbqUlK-nu8A"
      },
      "outputs": [],
      "source": [
        "# Create a function which returns an array containing the trajectory of the\n",
        "# economy starting a (K, q) for T time periods\n",
        "def trajectory(K, q, T = 1000):\n",
        "  # Initialize 2 arrays for the evolution of K and q\n",
        "  K = [K]\n",
        "  q = [q]\n",
        "  # Iterate over the time periods and compute the evolution of k and c\n",
        "  for t in range(T):\n",
        "    # Compute the increments for K and q, saving them allows to reuse them\n",
        "    # when checking the early stopping conditions\n",
        "    Kd = K_dot(K[t], q[t])\n",
        "    qd = q_dot(K[t], q[t])\n",
        "    # Append the increments to the existing lists of values\n",
        "    K.append(K[t] + Kd)\n",
        "    q.append(q[t] + qd)\n",
        "    # Early stopping condition\n",
        "    if (Kd == qd == 0) or (K[-1] <= 0) or (q[-1] <= 0):\n",
        "      break\n",
        "  return np.asarray(K), np.asarray(q)"
      ]
    },
    {
      "cell_type": "code",
      "execution_count": null,
      "metadata": {
        "id": "Ic9X3BBxjRhU"
      },
      "outputs": [],
      "source": [
        "# Finding a starting point which will end up in the equilibrium E is slightly more complicated\n",
        "def reverse_trajectory(K_star, T = 150, eps = 0.01):\n",
        "  # Initialize 2 arrays for the evolution of K and q but starting in [K_star, q_star]\n",
        "  K = [K_star]\n",
        "  q = [K_loc(K_star)]\n",
        "  # Add a slight perturbation (±eps%) from the equilibrium to get a point with non-zero derivatives\n",
        "  K.append(K[0] * (1 + eps))\n",
        "  q.append(q[0] * (1 + eps))\n",
        "  for t in range(1, T):\n",
        "    # Compute the increments for k and c towards the equilibrium and subtract them\n",
        "    # from the current position\n",
        "    Kd = K_dot(K[t], q[t])\n",
        "    qd = q_dot(K[t], q[t])\n",
        "    K.append(K[t] - Kd)\n",
        "    q.append(q[t] - qd)\n",
        "  # Return the reversed arrays for K and q\n",
        "  return np.asarray(K[::-1]), np.asarray(q[::-1])"
      ]
    },
    {
      "cell_type": "code",
      "execution_count": null,
      "metadata": {
        "colab": {
          "base_uri": "https://localhost:8080/",
          "height": 872
        },
        "id": "1bLHVGTenYVA",
        "outputId": "bcf14395-ad40-44d0-890a-ebaef7b0ecfc"
      },
      "outputs": [],
      "source": [
        "# Iterate over some 'randomly' chosen starting points and plot the evolution of the economy\n",
        "# Notice we do not create a new figure, we simply add the trajectories to the existing\n",
        "# figure we previously created\n",
        "for Kq in [(2.0, 1.25, 'A'), (5.0, 0.4, 'B'), (4.0, 2.0, 'C')]:\n",
        "  # Compute the x and y arrays using the trajectory function we defined above\n",
        "  x, y = trajectory(Kq[0], Kq[1])\n",
        "  ax.plot(x, y, '--', color = 'orange')         # Draw the paths as a dashed line\n",
        "  ax.plot(Kq[0], Kq[1], 'o', color = 'orange')  # Add a dot at the starting point\n",
        "  ax.annotate(Kq[2], xy = Kq[:2], size = 18)    # Add a letter at each starting point\n",
        "# Add the trajectories which ends up in the equilibirum\n",
        "x, y = reverse_trajectory(K_star, T = 150)\n",
        "ax.plot(x, y, '--', color = 'purple')\n",
        "ax.plot(x[115], y[115], 'o', color = 'purple')\n",
        "ax.annotate('E', xy = (x[115], y[115]), size = 18)\n",
        "x, y = reverse_trajectory(K_star, eps = -0.01, T = 160)\n",
        "ax.plot(x, y, '--', color = 'purple')\n",
        "ax.plot(x[125], y[125], 'o', color = 'purple')\n",
        "ax.annotate('F', xy = (x[125], y[125]), size = 18)\n",
        "# Restrain the x- and y-axis so that it cuts off the explosive paths\n",
        "ax.set_ylim(bottom = 0, top = K_loc(max(K))*2.5)\n",
        "ax.set_xlim(left = 0.4, right = max(K))\n",
        "ax.set_title(\"The phase diagram with vector field and trajectories\")   # Add plot title\n",
        "\n",
        "fig                                             # Display the figure"
      ]
    },
    {
      "cell_type": "markdown",
      "metadata": {
        "id": "8aiUVRDmiYXP"
      },
      "source": [
        "## Animated plot\n",
        "The above picture shows the direction for the path of the economy in different starting positions, but in a completely static manner.\n",
        "\n",
        "We now add a time component using animations, i.e. we create an animation of how the economy develops over time starting in a given point."
      ]
    },
    {
      "cell_type": "code",
      "execution_count": null,
      "metadata": {
        "id": "zAFfbcDjgZ98"
      },
      "outputs": [],
      "source": [
        "# Create a function to plot an animated evolution of the economy given a specific starting point\n",
        "def animated_plot(K_start, q_start):\n",
        "  # Create the plot\n",
        "  fig = plt.figure(figsize = (12, 8))\n",
        "  # Create a linear space of 1000 points between the two k values for which where c* = 0\n",
        "  K = np.linspace(K_star*0.2, K_star*2, 1000)\n",
        "\n",
        "  plt.plot(K, q_loc(K), color = 'blue', label = r'$\\dot{q}=0$')\n",
        "  plt.plot(K, K_loc(K), color = 'green', label =r'$\\dot{K}=0$')\n",
        "  plt.xlabel(\"K\")                       # Add x-axis label\n",
        "  plt.ylabel(\"q\")                       # Add y-axis label\n",
        "  plt.title(\"The dynamics of q and K\")  # Add plot title\n",
        "  plt.grid()                            # Add a grid\n",
        "  # Compute the evolution of K and q using our previously defined function\n",
        "  K, q = trajectory(K_start, q_start, 1000)\n",
        "  # Plot a dashed orange line (notice how it is initialized with empty arrays)\n",
        "  evolution_line,  = plt.plot([], [], '--', label = 'Economy trajectory',\n",
        "                              color = 'orange')\n",
        "  # Define how the evolution_line (the orange dashed line) evolves as a function of time\n",
        "  def animate(t):\n",
        "    # Instead of taking steps with linearly increasing size, we use a bit of a\n",
        "    # trick to take smaller steps in the start and larger steps as time goes by\n",
        "    step = int((t/50)**3 * len(K))\n",
        "    # Update the evolution_line data\n",
        "    evolution_line.set_data(K[:step], q[:step])\n",
        "    return evolution_line,\n",
        "  # Add legend and show the plot\n",
        "  plt.legend()\n",
        "  return animation.FuncAnimation(fig, animate, frames = 50, interval = 20, blit = True)"
      ]
    },
    {
      "cell_type": "code",
      "execution_count": null,
      "metadata": {
        "colab": {
          "base_uri": "https://localhost:8080/",
          "height": 898
        },
        "id": "TwxTwyr5jLW5",
        "outputId": "9c657253-6183-4033-dddd-7cfd176b931f"
      },
      "outputs": [],
      "source": [
        "# Create an animation of the economy's evolution starting at a point\n",
        "K_start = 5\n",
        "q_start = 1.6\n",
        "# Change the parameters of the function animated_plot() to see how different starting points behave\n",
        "anim = animated_plot(K_start, q_start)\n",
        "plt.close()\n",
        "anim"
      ]
    },
    {
      "cell_type": "markdown",
      "metadata": {
        "id": "aBlOjN-b3jyY"
      },
      "source": [
        "# Illustrating a Permanent Increase in the Output Elasticity of Capital"
      ]
    },
    {
      "cell_type": "code",
      "execution_count": null,
      "metadata": {
        "id": "r_HfPAk_SR_J"
      },
      "outputs": [],
      "source": [
        "# Compute the initial steady-state equilibrium values\n",
        "K_star_old = optimize.fsolve(K_root, 1.0)\n",
        "q_star_old = K_loc(K_star)\n",
        "\n",
        "# Set alpha to its new value\n",
        "alpha_new = 0.5\n",
        "\n",
        "\n"
      ]
    },
    {
      "cell_type": "code",
      "execution_count": null,
      "metadata": {
        "cellView": "form",
        "id": "RxO0hsKfhOLY"
      },
      "outputs": [],
      "source": [
        "#@title Updating the previous functions\n",
        "\n",
        "# Get the new steady-state values of K and q\n",
        "def K_loc_new(x):\n",
        "  return 1+ delta*x\n",
        "\n",
        "def q_loc_new(x):\n",
        "  return alpha_new * A * x**(alpha_new - 1) / (r + delta)\n",
        "\n",
        "def K_root_new(x):\n",
        "  return q_loc_new(x)-K_loc_new(x)\n",
        "\n",
        "\n",
        "\n",
        "# Update functions for calculating the trajectories\n",
        "def f_prime_new(x):\n",
        "  return alpha_new*A*x**(alpha_new-1)\n",
        "\n",
        "def q_dot_new(K, q):\n",
        "  return (r+delta)*q - f_prime_new(K)\n",
        "\n",
        "def K_dot_new(K, q):\n",
        "  return -1 + q - delta * K\n",
        "\n",
        "\n"
      ]
    },
    {
      "cell_type": "code",
      "execution_count": null,
      "metadata": {
        "id": "JLJLLPb2o6_P"
      },
      "outputs": [],
      "source": [
        "# Calculate the new equilibrium\n",
        "K_star_new = optimize.fsolve(K_root_new, 5)\n",
        "q_star_new = K_loc_new(K_star_new)"
      ]
    },
    {
      "cell_type": "code",
      "execution_count": null,
      "metadata": {
        "cellView": "form",
        "id": "z-ysncvmpDNS"
      },
      "outputs": [],
      "source": [
        "#@title Some more function updating and preparing the animated plot\n",
        "\n",
        "# Finding a starting point which will end up in the equilibrium\n",
        "def reverse_trajectory_new(K_star_new, T = 100, eps = 0.01):\n",
        "  # Initialize 2 arrays for the evolution of K and q but starting in [K_star, q_star]\n",
        "  K = [K_star_new]\n",
        "  q = [K_loc_new(K_star_new)]\n",
        "  # Add a slight perturbation (±eps%) from the equilibrium to get a point with non-zero derivatives\n",
        "  K.append(K[0] * (1 + eps))\n",
        "  q.append(q[0] * (1 + eps))\n",
        "  for t in range(1, T):\n",
        "    # Compute the increments for k and c towards the equilibrium and subtract them\n",
        "    # from the current position\n",
        "    Kd = K_dot_new(K[t], q[t])\n",
        "    qd = q_dot_new(K[t], q[t])\n",
        "    K.append(K[t] - Kd)\n",
        "    q.append(q[t] - qd)\n",
        "  # Return the reversed arrays for K and q\n",
        "  return np.asarray(K[::-1]), np.asarray(q[::-1])\n",
        "\n",
        "\n",
        "\n",
        "def lin_intpl_q(K, q, K_mid):\n",
        "    for i in range(len(K) - 1):\n",
        "        if K[i] <= K_mid <= K[i + 1]:\n",
        "            lower = K[i]\n",
        "            upper = K[i + 1]\n",
        "\n",
        "            q_lower = q[i]\n",
        "            q_upper = q[i + 1]\n",
        "\n",
        "            interpolated_q = q_lower + (K_mid - lower) * (q_upper - q_lower) / (upper - lower)\n",
        "            return i, interpolated_q\n",
        "    return None, None\n",
        "\n",
        "\n",
        "\n",
        "def animated_plot_new(K_trans, q_trans):\n",
        "  # Create the plot\n",
        "  fig = plt.figure(figsize = (12, 8))\n",
        "  # Create a linear space of 1000 points between the two k values for which where c* = 0\n",
        "  K = np.linspace(K_star_old*0.2, K_star_new*2, 1000)\n",
        "\n",
        "  plt.plot(K, K_loc(K), color = 'green', label =r'$\\dot{K}=0$')\n",
        "  plt.plot(K, q_loc(K), color = 'black', label = r'$\\dot{q}=0$')\n",
        "  plt.plot(K_star_old, q_star_old, 'o', color = 'black')\n",
        "  plt.annotate('A', xy = (K_star_old, K_loc(K_star_old)-0.2), size = 20)\n",
        "  plt.plot(K, q_loc_new(K), color = 'blue', label = r'$\\dot{q}_{new}=0$')\n",
        "  plt.plot(K_star_new, q_star_new, 'o', color = 'blue')\n",
        "  plt.annotate('B', xy = (K_star_new, K_loc_new(K_star_new)-0.2), size = 20)\n",
        "  plt.plot(K_saddle_left, q_saddle_left, '--', label = 'New saddle path', color = 'blue')\n",
        "  plt.plot(K_saddle_right, q_saddle_right, '--', color = 'blue')\n",
        "  plt.xlabel(\"K\")                       # Add x-axis label\n",
        "  plt.ylabel(\"q\")                       # Add y-axis label\n",
        "  plt.title(\"The dynamics of the permanent increase\")  # Add plot title\n",
        "  plt.grid()                            # Add a grid\n",
        "  plt.ylim(bottom = 0.5, top = 5)\n",
        "  plt.xlim(left = 0.5, right = 7)\n",
        "  # Compute the evolution of K and q\n",
        "  K = K_trans\n",
        "  q = q_trans\n",
        "  # Plot a dashed orange line (notice how it is initialized with empty arrays)\n",
        "  evolution_line,  = plt.plot([], [], '--', label = 'Transition path', color = 'orange')\n",
        "  # Define how the evolution_line (the orange dashed line) evolves as a function of time\n",
        "  def animate(t):\n",
        "    # Instead of taking steps with linearly increasing size, we use a bit of a\n",
        "    # trick to take smaller steps in the start and larger steps as time goes by\n",
        "    step = int((t/50)**3 * len(K))\n",
        "    # Update the evolution_line data\n",
        "    evolution_line.set_data(K[:step], q[:step])\n",
        "    return evolution_line,\n",
        "  # Add legend and show the plot\n",
        "  plt.legend()\n",
        "  return animation.FuncAnimation(fig, animate, frames = 50, interval = 20, blit = True)"
      ]
    },
    {
      "cell_type": "code",
      "execution_count": null,
      "metadata": {
        "colab": {
          "base_uri": "https://localhost:8080/",
          "height": 898
        },
        "id": "0wRUHlZIuqyr",
        "outputId": "796c1dc1-1a5e-4872-b7b2-38921838a81c"
      },
      "outputs": [],
      "source": [
        "# Obtain the saddle path of the new steady state using the updated function reverse_trajectory_new\n",
        "# Points to the right of the steady state\n",
        "K_saddle_right, q_saddle_right = reverse_trajectory_new(K_star_new, T = 80, eps = 0.0001)\n",
        "# Points to the left of the steady state\n",
        "K_saddle_left, q_saddle_left = reverse_trajectory_new(K_star_new, T = 79, eps = -0.0001)\n",
        "\n",
        "# Obtain the the q value and its index on the saddle path\n",
        "i_interp, q_interp = lin_intpl_q(K_saddle_left, q_saddle_left, K_star_old)\n",
        "\n",
        "# Set up the transition values of q and K\n",
        "K_trans = np.concatenate((K_star_old, K_star_old, K_saddle_left[i_interp+1:len(K_saddle_left)].flatten()))\n",
        "q_trans = np.concatenate((q_star_old, q_interp, q_saddle_left[i_interp+1:len(q_saddle_left)].flatten()))\n",
        "\n",
        "# Build the animated plot\n",
        "anim_trans = animated_plot_new(K_trans, q_trans)\n",
        "plt.close()\n",
        "anim_trans"
      ]
    }
  ],
  "metadata": {
    "colab": {
      "provenance": []
    },
    "kernelspec": {
      "display_name": "Python 3",
      "name": "python3"
    },
    "language_info": {
      "codemirror_mode": {
        "name": "ipython",
        "version": 3
      },
      "file_extension": ".py",
      "mimetype": "text/x-python",
      "name": "python",
      "nbconvert_exporter": "python",
      "pygments_lexer": "ipython3",
      "version": "3.10.8"
    }
  },
  "nbformat": 4,
  "nbformat_minor": 0
}
