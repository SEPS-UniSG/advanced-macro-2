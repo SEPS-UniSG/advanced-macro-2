{
  "cells": [
    {
      "cell_type": "markdown",
      "metadata": {
        "id": "N27z24OcMffy"
      },
      "source": [
        "# Value Function Iteration\n",
        "\n",
        "This notebook takes us through the household maximization problem."
      ]
    },
    {
      "cell_type": "code",
      "execution_count": null,
      "metadata": {
        "id": "BGIyPHDBMiW5"
      },
      "outputs": [],
      "source": [
        "# Load necessary packages and scripts\n",
        "import matplotlib.pyplot as plt\n",
        "import numba as nb\n",
        "import numpy as np\n",
        "import tqdm\n",
        "\n",
        "from scipy.interpolate import interp1d\n",
        "from scipy.stats import linregress"
      ]
    },
    {
      "cell_type": "markdown",
      "metadata": {
        "id": "aOqrfIeeMnv6"
      },
      "source": [
        "The code block below provides the logic for the value function iteration procedure. While it can prove helpful and instructive to go through it, it is not necessary for you to understand this code.\n",
        "\n",
        "The arguments of the function VFI are model parameters such as the interest rate. The output of the function are the policy functions for consumption `c[a, y, t]` and assets `a_t+1[a, y, t]` as well as the asset grid `a_grid`."
      ]
    },
    {
      "cell_type": "code",
      "execution_count": null,
      "metadata": {
        "cellView": "form",
        "id": "MaZz8nRIMw-1"
      },
      "outputs": [],
      "source": [
        "# @title Value Function Iteration Code\n",
        "\n",
        "# Backwards induction using Value Function Iteration\n",
        "# @nb.jit(nopython=True)\n",
        "def VFI(T, util_type, eta, beta, r, gamma, sigma_y, cbar=100, bonus_question=False):\n",
        "\n",
        "    # Gross interest rate\n",
        "    R = 1 + r\n",
        "\n",
        "    # Transition matrix for income process\n",
        "    P = np.array([[1+gamma, 1-gamma], [1-gamma, 1+gamma]])/2\n",
        "\n",
        "    # Income shock states\n",
        "    Y = np.array([[1-sigma_y, 1+sigma_y]])\n",
        "\n",
        "    # Set up a grid for the asset state variable\n",
        "    if bonus_question:\n",
        "        a_min = -6*(1-sigma_y)/R\n",
        "        a_max = 15\n",
        "        step_size = 0.005\n",
        "        cbar=50\n",
        "    else:\n",
        "        a_min = -1.5*(1-sigma_y)/R\n",
        "        a_max = 4\n",
        "        step_size = 0.001\n",
        "\n",
        "    a_grid = np.arange(a_min, a_max, step_size).reshape((-1, 1))\n",
        "\n",
        "    # Initialize policy functions\n",
        "    c_pol = np.zeros((len(a_grid), 2, T))\n",
        "    a_prime_pol = np.zeros((len(a_grid), 2, T))\n",
        "\n",
        "    # Last period decision, i.e., V(a, y, T)\n",
        "    v = []\n",
        "    c_last = R * a_grid + Y\n",
        "    c_neg = c_last <= 0\n",
        "    v=util(c_last, util_type, eta, cbar)\n",
        "    v[c_neg] = -1e12\n",
        "\n",
        "    for i in tqdm.tqdm(range(T)):\n",
        "        tempv = np.zeros((len(a_grid), 2))\n",
        "\n",
        "        for (j, a) in enumerate(a_grid):\n",
        "            # Implied value of the value function\n",
        "            b = np.linspace(a_min, a_max - step_size, len(a_grid)).reshape((-1, 1))\n",
        "            K = util(R * a - b + Y, util_type, eta, cbar) + beta * (P @ v.T).T\n",
        "\n",
        "            # Find index up to which we compute the max\n",
        "            ind = int(max(1, min(\n",
        "                round_away((min(a_max, R * a + Y[0, 0]) - a_min) / step_size),\n",
        "                K.shape[0] - 1\n",
        "            )))\n",
        "\n",
        "            # Obtain the maximum value of all potential choices (avoid axis arg for numba)\n",
        "            M = [np.max(K[:ind, 0]), np.max(K[:ind, 1])]\n",
        "            I = [np.argmax(K[:ind, 0]), np.argmax(K[:ind, 1])]\n",
        "\n",
        "            # Extract value and save decision\n",
        "            tempv[j, :] = M\n",
        "            a_prime_pol[j, :, T-i-1] = b[I].flatten() # a_grid[I].flatten()\n",
        "            c_pol[j, :, T-i-1] = R * a_grid[j] + Y - a_prime_pol[j, :, T-i-1]\n",
        "\n",
        "        # Update value function\n",
        "        v = tempv.copy()\n",
        "\n",
        "    return c_pol, a_prime_pol, a_grid.flatten()\n",
        "\n",
        "def crra_util(c, eta):\n",
        "    return (c**(1-eta)-1)/(1-eta)\n",
        "\n",
        "def quadratic_util(c, cbar):\n",
        "    return -(c - cbar)**2\n",
        "\n",
        "def util(c, util_type, eta, cbar):\n",
        "    if util_type.lower() == 'crra':\n",
        "        return crra_util(c, eta)\n",
        "    elif util_type.lower() == 'quadratic':\n",
        "        return quadratic_util(c, cbar)\n",
        "    else:\n",
        "        raise ValueError(\"Unsupported utility type\")\n",
        "\n",
        "# Rounding to integer, away from zero in Python\n",
        "def round_away(x):\n",
        "    a = np.abs(x)\n",
        "    r = np.floor(a) + np.floor(2 * (a % 1))\n",
        "    return np.sign(x) * r"
      ]
    },
    {
      "cell_type": "markdown",
      "metadata": {
        "id": "gv3hjCU_NFpf"
      },
      "source": [
        "## Default Parametrization"
      ]
    },
    {
      "cell_type": "code",
      "execution_count": null,
      "metadata": {
        "id": "LuU-V5CzM0dO"
      },
      "outputs": [],
      "source": [
        "# Default Parametrization\n",
        "# -----------------------\n",
        "\n",
        "T = 45              # Number of periods (Length of the individual's life cycle)\n",
        "\n",
        "util_type = 'CRRA'  # Utility Function type (CRRA or Quadratic)\n",
        "eta = 2             # Coefficient of Relative Risk Aversion\n",
        "\n",
        "beta = 0.90     # Discount Factor\n",
        "r = 0.04            # Interest Rate  (Real, Risk-free)\n",
        "R = 1+r           # Gross Interest Rate\n",
        "\n",
        "gamma = 0.40  # Income Shock Persistence\n",
        "sigma_y = 0.20       # Income Shock Volatility"
      ]
    },
    {
      "cell_type": "markdown",
      "metadata": {
        "id": "3WT6cxWuNMMC"
      },
      "source": [
        "### Question 4: Compare CRRA and Quadratic Utility\n",
        "\n",
        "1. Using the default parametrization, obtain the policy function for consumption by calling the function VFI for both specifications of the utility function.\n",
        "2. Plot both consumption policy functions in the first period for both income states. On the x-axis should be the grid for `a`, on the y-axis `c[a, y1, 1]` and `c[a, y2, 1]` for the respective preference specification.\n",
        "3. Explain the economic intuition behind the differences of the consumption policy functions."
      ]
    },
    {
      "cell_type": "code",
      "execution_count": null,
      "metadata": {
        "id": "tQpkHrtBND4L"
      },
      "outputs": [],
      "source": [
        "# Set the utility type to CRRA\n",
        "u_type='CRRA'\n",
        "\n",
        "# Run VFI with CRRA utility and store the policy functions\n",
        "c_pol_1, a_prime_pol_1, a_grid = VFI(T=T,\n",
        "                                     util_type=u_type, eta=eta,\n",
        "                                     beta=beta, r=r,\n",
        "                                     gamma=gamma, sigma_y=sigma_y)\n",
        "\n",
        "# The progress window below illustrates the evolving numerical solution progress for the life cycle problem."
      ]
    },
    {
      "cell_type": "code",
      "execution_count": null,
      "metadata": {
        "id": "gWosjpCsNOJP"
      },
      "outputs": [],
      "source": [
        "# Set the utility type to Quadratic\n",
        "# u_type =\n",
        "\n",
        "# Run VFI with quadratic utility and store the policy functions\n",
        "c_pol_2, a_prime_pol_2, a_grid = VFI(T=T,\n",
        "                                     util_type=u_type, eta=eta,\n",
        "                                     beta=beta, r=r,\n",
        "                                     gamma=gamma, sigma_y=sigma_y)"
      ]
    },
    {
      "cell_type": "code",
      "execution_count": null,
      "metadata": {
        "id": "g6q1ibyrNRFm"
      },
      "outputs": [],
      "source": [
        "# Set period to the first model period. Remember that Python starts indexing at 0, not at 1.\n",
        "# period =\n",
        "\n",
        "# Plot the consumption policy functions\n",
        "fig, axs = plt.subplots(1, 2, figsize=(12, 8))\n",
        "\n",
        "# Plots for first income state\n",
        "axs[0].plot(a_grid, c_pol_1[:, 0, period], label='CRRA', color='black')\n",
        "axs[0].plot(a_grid, c_pol_2[:, 0, period], label='Quadratic', color='red')\n",
        "axs[0].set_title('First Income State')\n",
        "\n",
        "# Plots for second income state\n",
        "axs[1].plot(a_grid, c_pol_1[:, 1, period], label='CRRA', color='black')\n",
        "axs[1].plot(a_grid, c_pol_2[:, 1, period], label='Quadratic', color='red')\n",
        "axs[1].set_title('Second Income State')\n",
        "\n",
        "# Common plot aesthetics\n",
        "for ax in axs:\n",
        "    ax.grid(True)\n",
        "    ax.legend()\n",
        "    ax.set_ylabel('Consumption')\n",
        "    ax.set_xlabel('Assets')"
      ]
    },
    {
      "cell_type": "markdown",
      "metadata": {
        "id": "7Pt4tRp4NTvl"
      },
      "source": [
        "### Question 5: Simulated Life Cycle Profiles\n",
        "\n",
        "1. Generate a time profile of consumption by choosing initial assets equal to 0 and by using the policy functions `c[a, y, t]` and `a_t+1[a, y, t]`.\n",
        "2. Simulate the income process starting at `y_1 = 1+sigma_y` and initializing the random number generator using `np.random.seed(23)`.\n",
        "3. Compare the variance of the income and the consumption path. How do they compare and what is the economic interpretation?"
      ]
    },
    {
      "cell_type": "code",
      "execution_count": null,
      "metadata": {
        "id": "Xi364RqZNR3C"
      },
      "outputs": [],
      "source": [
        "# Income shock states\n",
        "Y = [1-sigma_y, 1+sigma_y]\n",
        "# Transition matrix for income process\n",
        "P = np.array([[1+gamma, 1-gamma], [1-gamma, 1+gamma]])/2\n",
        "\n",
        "# Random component\n",
        "np.random.seed(23)\n",
        "r_num = np.random.rand(T)"
      ]
    },
    {
      "cell_type": "code",
      "execution_count": null,
      "metadata": {
        "id": "XTUOOXbQNV27"
      },
      "outputs": [],
      "source": [
        "# Set initial income and assets\n",
        "# y_initial =\n",
        "# a_initial =\n",
        "\n",
        "\n",
        "# Initialize lists for the income process\n",
        "y_state = [y_initial]\n",
        "y_t = [Y[y_state[0]]]\n",
        "\n",
        "# Simulate income process\n",
        "for k in range(T):\n",
        "    y_state.append(int(r_num[k] > P[y_state[k], 0])) # A Markov income process for y[t]\n",
        "    y_t.append(Y[y_state[k + 1]])                    # Income at time t\n",
        "\n",
        "# Set up list for consumption c_t\n",
        "c_t = []\n",
        "# Set initial assets to zero\n",
        "a_t = [a_initial]\n",
        "\n",
        "# Simulate paths for assets a_t and consumption c_t\n",
        "for it in range(T):\n",
        "    a_t.append(float(interp1d(a_grid.flatten(), a_prime_pol_1[:, y_state[it], it])(a_t[it])))\n",
        "    c_t.append(R*a_t[it] + y_t[it] - a_t[it + 1])"
      ]
    },
    {
      "cell_type": "code",
      "execution_count": null,
      "metadata": {
        "id": "KbaSoyuHNWiN"
      },
      "outputs": [],
      "source": [
        "# Plot the time series for consumption , income, and assets\n",
        "fig, axs = plt.subplots(1, 2, figsize=(12, 8))\n",
        "\n",
        "# Plot consumption and assets over time\n",
        "axs[0].plot(c_t, label='Consumption', color='black')\n",
        "axs[1].plot(a_t, label='Assets', color='black')\n",
        "\n",
        "# Add a span to display high income (bit of a tricky code...)\n",
        "i, j = 0, 0\n",
        "add_label = True\n",
        "while i < len(y_state):\n",
        "    j = i + 1\n",
        "    if y_state[i] == 1:\n",
        "        while j < len(y_state) and y_state[j] == 1:\n",
        "            j += 1\n",
        "        if add_label:\n",
        "            axs[0].axvspan(i, j, alpha=0.2, label='High Income State')\n",
        "            axs[1].axvspan(i, j, alpha=0.2, label='High Income State')\n",
        "            add_label = False\n",
        "        else:\n",
        "            axs[0].axvspan(i, j, alpha=0.2)\n",
        "            axs[1].axvspan(i, j, alpha=0.2)\n",
        "    i = j\n",
        "\n",
        "\n",
        "for ax in axs:\n",
        "    ax.set_xlabel('Period')\n",
        "    ax.legend()\n",
        "\n",
        "# Calculate the variance of consumption as a share of the variance of income\n",
        "np.var(c_t) / np.var(y_t)"
      ]
    },
    {
      "cell_type": "markdown",
      "metadata": {
        "id": "uQe3auKzNaEc"
      },
      "source": [
        "### Question 6: Comparative Statics\n",
        "1. How does the consumption policy function `c[a,y1,1]` change if you assume CRRA utility change and beta increases from `beta=0.90` to `beta=0.95`?\n",
        "2. How does it change if gamma increases from `gamma=0.1` to `gamma=0.9`?\n",
        "3. Explain the respective economic intuition."
      ]
    },
    {
      "cell_type": "code",
      "execution_count": null,
      "metadata": {
        "id": "FNU0pqqLNXgU"
      },
      "outputs": [],
      "source": [
        "# Change in patience\n",
        "\n",
        "# Insert the paramter values for comparison\n",
        "# beta1 =\n",
        "# beta2 =\n",
        "\n",
        "\n",
        "# Run VFI with low beta\n",
        "c_beta_l, a_beta_l, a_grid = VFI(T=T,\n",
        "                                 util_type='CRRA', eta=eta,\n",
        "                                 beta=beta1, r=r,\n",
        "                                 gamma=gamma, sigma_y=sigma_y)\n",
        "\n",
        "# Run VFI with high beta\n",
        "c_beta_h, a_beta_h, a_grid = VFI(T=T,\n",
        "                                 util_type='CRRA', eta=eta,\n",
        "                                 beta=beta2, r=r,\n",
        "                                 gamma=gamma, sigma_y=sigma_y)"
      ]
    },
    {
      "cell_type": "code",
      "execution_count": null,
      "metadata": {
        "id": "m0EBTfmDNb9H"
      },
      "outputs": [],
      "source": [
        "# Change in income shock variance\n",
        "\n",
        "# Insert the paramter values for comparison\n",
        "# gamma1 =\n",
        "# gamma2 =\n",
        "\n",
        "\n",
        "# Run VFI with low gamma\n",
        "c_gamma_l, a_gamma_l, a_grid = VFI(T=T,\n",
        "                                 util_type='CRRA', eta=eta,\n",
        "                                 beta=beta, r=r,\n",
        "                                 gamma=gamma1, sigma_y=sigma_y)\n",
        "\n",
        "# Run VFI with high gamma\n",
        "c_gamma_h, a_gamma_h, a_grid = VFI(T=T,\n",
        "                                 util_type='CRRA', eta=eta,\n",
        "                                 beta=beta, r=r,\n",
        "                                 gamma=gamma2, sigma_y=sigma_y)"
      ]
    },
    {
      "cell_type": "code",
      "execution_count": null,
      "metadata": {
        "id": "IbCyiQ_ENdrH"
      },
      "outputs": [],
      "source": [
        "# Plot c_pol for comparative statics\n",
        "fig, axs = plt.subplots(1, 2, figsize=(12, 8))\n",
        "\n",
        "axs[0].plot(a_grid, c_beta_l[:, 0, 0], label=f'Low Beta (β={beta1})', color='black')\n",
        "axs[0].plot(a_grid, c_beta_h[:, 0, 0], label=f'High Beta (β={beta2})', color='red')\n",
        "axs[0].set_title('Change in Patience')\n",
        "\n",
        "axs[1].plot(a_grid, c_gamma_l[:, 0, 0], label=f'Low Gamma (γ={gamma1})', color='black')\n",
        "axs[1].plot(a_grid, c_gamma_h[:, 0, 0], label=f'High Gamma (γ={gamma2})', color='red')\n",
        "axs[1].set_title('Change in Income Shock Variance')\n",
        "\n",
        "for ax in axs:\n",
        "    ax.set_xlabel('')\n",
        "    ax.set_ylabel('Consumption')\n",
        "    ax.legend()\n",
        "    ax.grid()"
      ]
    },
    {
      "cell_type": "markdown",
      "metadata": {
        "id": "TalyN3p0NgoO"
      },
      "source": [
        "### Question 7: Bonus Question\n",
        "\n",
        "Regress consumption growth on current income to evaluate Hall's random walk hypothesis.\n",
        "Simulate the life cycle profiles of N=10,000 individuals using the specification with a quadratic utility function. Calculate consumption growth rates from the simulated time series. Set `beta=1/(1+r)` and T=60. Discard the first and last p=10 periods before you perform the regression. Provide an economic interpretation of the regression results (coefficients, p-values, `R^2`)."
      ]
    },
    {
      "cell_type": "code",
      "execution_count": null,
      "metadata": {
        "id": "NIqItjv3Nhg8"
      },
      "outputs": [],
      "source": [
        "# Set the number of periods to simulate\n",
        "# T_rw =\n",
        "\n",
        "# Assign parameter values\n",
        "gamma = 0.7          # Income Shock Persistence\n",
        "sigma_y = 0.20       # Income Shock Volatility\n",
        "r = 0.04\n",
        "R = 1+r\n",
        "\n",
        "# Set beta and utility type\n",
        "# beta_bonus =\n",
        "# u_type =\n",
        "\n",
        "# Run VFI for bonus question\n",
        "c_pol, a_prime_pol, a_grid = VFI(T=T_rw,\n",
        "                                 util_type=u_type, eta=eta,\n",
        "                                 beta=beta_bonus, r=r,\n",
        "                                 gamma=gamma, sigma_y=sigma_y,\n",
        "                                 bonus_question=True)"
      ]
    },
    {
      "cell_type": "code",
      "execution_count": null,
      "metadata": {
        "id": "LvILXqYuNjJt"
      },
      "outputs": [],
      "source": [
        "# Set the number of individuals to simulate\n",
        "# N =\n",
        "# Set number of periods to discard (before AND after, i.e., we discard 2p periods)\n",
        "# p =\n",
        "\n",
        "y_all = np.zeros((N, T_rw))\n",
        "c_all = np.zeros((N, T_rw))\n",
        "a_all = np.zeros((N, T_rw))\n",
        "c_all_growth = np.zeros((N, T_rw - 2*p))\n",
        "y_all_reg = np.zeros((N, T_rw - 2*p))\n",
        "\n",
        "for iN in tqdm.tqdm(range(N)):\n",
        "    y_state = [1]\n",
        "    y_t = [Y[y_state[0]]]\n",
        "\n",
        "    np.random.seed(23+iN)\n",
        "    r_num = np.random.rand(T_rw)\n",
        "\n",
        "    for k in range(T_rw - 1):\n",
        "        y_state.append(int(r_num[k] > P[y_state[k], 0])) # A Markov income process for y[t]\n",
        "        y_t.append(Y[y_state[k + 1]])                    # Income at time t\n",
        "\n",
        "    # Simulate consumption path\n",
        "    c_t = []\n",
        "    a_t = [0]\n",
        "\n",
        "    for it in range(T_rw):\n",
        "        a_t.append(float(interp1d(a_grid.flatten(), a_prime_pol[:, y_state[it], it])(a_t[it])))\n",
        "        c_t.append(R*a_t[it] + y_t[it] - a_t[it + 1])\n",
        "\n",
        "    # Calculate growth rates\n",
        "    c_growth = np.exp(np.diff(np.log(c_t))) - 1\n",
        "    c_growth = c_growth[p:-p+1]\n",
        "    c_growth[np.abs(c_growth) < 0.0001] = 0\n",
        "\n",
        "    # Store results\n",
        "    y_all[iN, :] = y_t\n",
        "    c_all[iN, :] = c_t\n",
        "    a_all[iN, :] = a_t[:-1]\n",
        "    c_all_growth[iN, :] = c_growth\n",
        "    y_all_reg[iN, :] = y_t[p-2:-p-2]\n",
        "\n",
        "# Run regression\n",
        "lm = linregress(y_all_reg.flatten(), c_all_growth.flatten())\n",
        "\n",
        "# Print results\n",
        "print(f\"\\nIntercept           : {lm.intercept:.4f}\")\n",
        "print(f\"Slope (coefficient) : {lm.slope:.4f}\")\n",
        "print(f\"Standard Error      : {lm.stderr:.4f}\")\n",
        "print(f\"p-value             : {lm.pvalue:.4f}\")\n",
        "print(f\"R-squared           : {lm.rvalue**2:.4f}\")"
      ]
    },
    {
      "cell_type": "code",
      "execution_count": null,
      "metadata": {
        "id": "A7kW_-iWdMk_"
      },
      "outputs": [],
      "source": [
        "# Plot the time series of all individuals\n",
        "fig, axes = plt.subplots(1, 3, figsize=(18, 4))\n",
        "\n",
        "# Plot the data in the first subplot\n",
        "for i in range(a_all.shape[0]):\n",
        "    axes[0].plot(a_all[i, :])\n",
        "\n",
        "# Set the title and labels for the first subplot\n",
        "axes[0].set_title('Assets')\n",
        "axes[0].set_xlabel('Period')\n",
        "axes[0].set_ylabel('')\n",
        "\n",
        "# Plot the data in the second subplot\n",
        "for i in range(c_all.shape[0]):\n",
        "    axes[1].plot(c_all[i, :])\n",
        "\n",
        "# Set the title and labels for the second subplot\n",
        "axes[1].set_title('Consumption')\n",
        "axes[1].set_xlabel('Period')\n",
        "axes[1].set_ylabel('')\n",
        "\n",
        "# Plot the data in the third subplot\n",
        "for i in range(c_all_growth.shape[0]):\n",
        "    axes[2].plot(c_all_growth[i, :])\n",
        "\n",
        "# Set the title and labels for the third subplot\n",
        "axes[2].set_title('Consumption Growth')\n",
        "axes[2].set_xlabel('Period')\n",
        "axes[2].set_ylabel('')"
      ]
    }
  ],
  "metadata": {
    "colab": {
      "provenance": []
    },
    "kernelspec": {
      "display_name": "Python 3",
      "name": "python3"
    },
    "language_info": {
      "name": "python"
    }
  },
  "nbformat": 4,
  "nbformat_minor": 0
}
