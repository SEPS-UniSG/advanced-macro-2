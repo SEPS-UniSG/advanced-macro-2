{
  "nbformat": 4,
  "nbformat_minor": 0,
  "metadata": {
    "kernelspec": {
      "display_name": "Python 3",
      "language": "python",
      "name": "python3"
    },
    "language_info": {
      "codemirror_mode": {
        "name": "ipython",
        "version": 3
      },
      "file_extension": ".py",
      "mimetype": "text/x-python",
      "name": "python",
      "nbconvert_exporter": "python",
      "pygments_lexer": "ipython3",
      "version": "3.8.5"
    },
    "colab": {
      "provenance": []
    }
  },
  "cells": [
    {
      "cell_type": "markdown",
      "metadata": {
        "id": "j7qVBVmUFiTB"
      },
      "source": [
        "# Advanced Macro II\n",
        "## Real-Business-Cycle Model\n",
        "[Romer, David. (2018). Advanced macroeconomics. New York: McGraw-Hill/Irwin.](https://www.mheducation.com/highered/product/advanced-macroeconomics-romer/M9781260185218.html)\n",
        "\n",
        "In this notebook, you will learn to do simple plots of the effect of technology and government spending shocks according to a real-business cycle model. For the theory behind this notebook, see Romer (2018), chapter 5 *Real-Business-Cycle Theory*. Although the important equations are listed in the following, their derivation and intuition is found in the book."
      ]
    },
    {
      "cell_type": "markdown",
      "metadata": {
        "id": "VsIpS6HkFiTE"
      },
      "source": [
        "### Relevant Equations\n",
        "Rules for consumption and employment (eq. (5.51) and (5.52)):\n",
        "\n",
        "$$ \\begin{aligned}\n",
        "\\tilde{C}_{t+1} \\simeq a_{CK} \\tilde{K}_{t+1} + a_{CA} \\tilde{A}_{t+1} + a_{CG} \\tilde{G}_{t+1} \\\\\n",
        "\\tilde{L}_{t+1} \\simeq a_{LK} \\tilde{K}_{t+1} + a_{LA} \\tilde{A}_{t+1} + a_{LG} \\tilde{G}_{t+1}\n",
        "\\end{aligned}$$\n",
        "\n",
        "Rule for capital (eq. (5.53)):\n",
        "\n",
        "$$ \\tilde{K}_{t+1} \\simeq b_{KK} \\tilde{K}_{t} + b_{KA} \\tilde{A}_{t} + b_{KG} \\tilde{G}_{t} $$\n",
        "\n",
        "Rules for the technology and government spending (eq. (5.9) and (5.11)):\n",
        "\n",
        "$$ \\begin{aligned}\n",
        "\\tilde{A}_{t+1} \\simeq \\rho_A \\tilde{A}_{t} \\\\\n",
        "\\tilde{G}_{t+1} \\simeq \\rho_G \\tilde{G}_{t}\n",
        "\\end{aligned}$$\n",
        "\n",
        "Rule for output (eq. (5.54)):\n",
        "\n",
        "$$ \\tilde{Y}_{t+1} = \\alpha \\tilde{K}_{t+1} + (1 - \\alpha) (\\tilde{L}_{t+1} + \\tilde{A}_{t+1}) $$"
      ]
    },
    {
      "cell_type": "markdown",
      "metadata": {
        "id": "OqoUWpmFFiTF"
      },
      "source": [
        "### Computing the results\n",
        "Now that we have listed the equations of interest, let us briefly go over the idea of how to solve them with an algorithm. Notice that we have 2 kind of equations:\n",
        "1. Those where the time subscripts of the right hand side are strictly lower than that of the left-hand side ($\\tilde{A}_{t+1}$, $\\tilde{G}_{t+1}$, and $\\tilde{K}_{t+1}$)\n",
        "2. Those where the time subscripts of both sides of the equation are equal ($\\tilde{C}_{t+1}$, $\\tilde{L}_{t+1}$, and $\\tilde{Y}_t$)\n",
        "\n",
        "Using starting values (either the ones on the balanced growth path, or setting the initial value of the specific shocks, e.g. $\\tilde{A}_0 = 1$ to see the impact of a $1\\%$ technology shock), we can iterate over the time periods $t = 1, 2, \\dots, T$ and compute the value of each of the above equations based on the value we computed in the last iteration (or the initial values for the first iteration). Note that it is crucial to start by computing the log-deviations of the state variables: $\\tilde{A}_t$, $\\tilde{G}_t$, and $\\tilde{K}_t$, as these values will be needed **in the same time iteration** for the computation of the log-deviations of the control variables: $\\tilde{C}_{t}$ and $\\tilde{L}_{t}$, and thus $\\tilde{Y}_t$\n",
        "\n",
        "**Note on the units:** since the equation are log-deviations from the balanced growth path, a deviation of $1$ denotes approximately a deviation of $1\\%$."
      ]
    },
    {
      "cell_type": "markdown",
      "metadata": {
        "id": "uDgMi_atFiTH"
      },
      "source": [
        "Let's start with a short example, computing only the technology growth:"
      ]
    },
    {
      "cell_type": "code",
      "metadata": {
        "id": "nCazQbQmFiTI"
      },
      "source": [
        "# Before we start, import a linear algebra and plotting library\n",
        "import numpy as np\n",
        "import matplotlib.pyplot as plt"
      ],
      "execution_count": null,
      "outputs": []
    },
    {
      "cell_type": "code",
      "metadata": {
        "id": "gCpBoiE3FiTK"
      },
      "source": [
        "T = 40                    # Number of periods we consider\n",
        "rho_A = 0.95              # AR(1) coefficient of technology shock, taken from chapter 5.7\n",
        "A = np.zeros(T)           # Create a Tx1 vector of zeros\n",
        "A[0] = 1                  # Set the first element of this vector to 1 (this is the technology shock of 1%)\n",
        "for t in range(1, T):     # Iterate over the time periods and fill the vector progressively\n",
        "    A[t] = rho_A * A[t-1] # Compute the element of the vector according to the formula for technology above"
      ],
      "execution_count": null,
      "outputs": []
    },
    {
      "cell_type": "code",
      "metadata": {
        "id": "JHTD_6X5FiTL"
      },
      "source": [
        "# Plot the results to see what A looks like\n",
        "plt.figure(figsize=(12,6))  # Define plot size\n",
        "plt.plot(A, label = \"A (Technology)\") # Plot path of technology\n",
        "plt.legend() # Add the legend top right\n",
        "plt.show() # Display the plot"
      ],
      "execution_count": null,
      "outputs": []
    },
    {
      "cell_type": "markdown",
      "metadata": {
        "id": "KXEfvz3-FiTN"
      },
      "source": [
        "We see how $\\tilde{A}_t$ gradually decays to $0$ as $t$ progresses, as is expected. Now let's do the same thing, but computing all the variables which characterize the dynamic equilibrium of the economy."
      ]
    },
    {
      "cell_type": "code",
      "metadata": {
        "id": "AqR7dKdDFiTN"
      },
      "source": [
        "# Define some constants according to chapter 5.7\n",
        "T = 40        # Number of periods\n",
        "alpha = 1/3   # Cobb-Douglas parameter (calibrated to the capital share of output)\n",
        "g = 0.005     # Productivity growth rate\n",
        "n = 0.0025\n",
        "r = 0.015     # Interest rate\n",
        "GY = 0.2      # Ratio of G to Y on the balanced growth path\n",
        "l = 1/3       # Labor supply on the balanced growth path\n",
        "delta = 0.025 # Depreciation rate\n",
        "rho_A = 0.95  # AR(1) coefficient of technology shock\n",
        "rho_G = 0.95  # AR(1) coefficient of government spending shock"
      ],
      "execution_count": null,
      "outputs": []
    },
    {
      "cell_type": "markdown",
      "metadata": {
        "id": "-5VQWDPiMLbb"
      },
      "source": [
        "### Calculate determined parameters\n",
        "The following step is necessary to identify the parameters $a_{CK}, a_{LK}, a_{CA}, a_{LA}, a_{CG}, a_{LG}, b_{KK}, b_{KA}, b_{KG}$ in the above equations. This allows us to fully determine the model in terms of the above parameters (and thus change them to see how they impact the equilibrium). However, solving a system of equations with Python is not the goal of this lab session, consequently the code is not discussed in detail.\n",
        "\n",
        "To find out how to derive these equations, follow chapter 5.6 and solve exercise 5.15."
      ]
    },
    {
      "cell_type": "code",
      "metadata": {
        "id": "_nYw_gOJMRBX",
        "cellView": "form"
      },
      "source": [
        "#@title To calculate the determined paramters run this section\n",
        "\n",
        "# Import the solver library\n",
        "import sympy as sym\n",
        "# Set up the lambda values\n",
        "lambda_1 = (1+r)/np.exp(n+g)\n",
        "lambda_2 = (1-alpha)*(r+delta)/(alpha*np.exp(n+g))\n",
        "lambda_3 = -(r+delta)*GY/(alpha*np.exp(n+g))\n",
        "\n",
        "# Determine the system of equations and solve it using sympy\n",
        "a_CK, a_LK = sym.symbols('a_CK, a_LK')\n",
        "a_CA, a_LA = sym.symbols('a_CA, a_LA')\n",
        "a_CG, a_LG = sym.symbols('a_CG, a_LG')\n",
        "eq1 = sym.Eq(((1-alpha)*(r+delta)/(1+r)*a_LK-(1-alpha)*(r+delta)/(1+r)-a_CK)*(lambda_1+lambda_2*a_LK+(1-lambda_1-lambda_2-lambda_3)*a_CK), -a_CK)\n",
        "eq2 = sym.Eq(((1-alpha)*(r+delta)/(1+r)*a_LK-(1-alpha)*(r+delta)/(1+r)-a_CK)*(lambda_2*(1+a_LA)+(1-lambda_1-lambda_2-lambda_3)*a_CA)+rho_A*((1-alpha)*(r+delta)/(1+r)+(1-alpha)*(r+delta)/(1+r)*a_LA-a_CA), -a_CA)\n",
        "eq3 = sym.Eq(((1-alpha)*(r+delta)/(1+r)*a_LK-(1-alpha)*(r+delta)/(1+r)-a_CK)*(lambda_2*a_LG+lambda_3+(1-lambda_1-lambda_2-lambda_3)*a_CG)+rho_G*((1-alpha)*(r+delta)/(1+r)*a_LG-a_CG), -a_CG)\n",
        "eq4 = sym.Eq(a_CK+(l/(1-l)+alpha)*a_LK, alpha)\n",
        "eq5 = sym.Eq(a_CA+(l/(1-l)+alpha)*a_LA, 1-alpha)\n",
        "eq6 = sym.Eq(a_CG+(l/(1-l)+alpha)*a_LG, 0)\n",
        "result = sym.solve([eq1, eq2, eq3, eq4, eq5, eq6])\n",
        "\n",
        "# Extract the parameters from the result\n",
        "a_CK = result[0][a_CK]\n",
        "a_LK = result[0][a_LK]\n",
        "a_CA = result[0][a_CA]\n",
        "a_LA = result[0][a_LA]\n",
        "a_CG = result[0][a_CG]\n",
        "a_LG = result[0][a_LG]\n",
        "\n",
        "# Compute the parameters for equation (5.53)\n",
        "b_KK = lambda_1 + lambda_2 * a_LK + (1 - lambda_1 - lambda_2 - lambda_3) * a_CK\n",
        "b_KA = lambda_2 * (1 + a_LA) + (1 - lambda_1 - lambda_2 - lambda_3) * a_CA\n",
        "b_KG = lambda_2 * a_LG + lambda_3 + (1 - lambda_1 - lambda_2 - lambda_3) * a_CG"
      ],
      "execution_count": null,
      "outputs": []
    },
    {
      "cell_type": "markdown",
      "metadata": {
        "id": "HnrvY0CwFiTO"
      },
      "source": [
        "### Effect of a 1% shock to technology"
      ]
    },
    {
      "cell_type": "code",
      "metadata": {
        "id": "tZ8D8jWjFiTP"
      },
      "source": [
        "# Initialize empty Tx1 vectors for all variables of interest\n",
        "A = np.zeros(T)\n",
        "G = np.zeros(T)\n",
        "K = np.zeros(T)\n",
        "C = np.zeros(T)\n",
        "L = np.zeros(T)\n",
        "Y = np.zeros(T)"
      ],
      "execution_count": null,
      "outputs": []
    },
    {
      "cell_type": "code",
      "metadata": {
        "id": "5oA0OnrJFiTR"
      },
      "source": [
        "# Add a 1% techonology shock to the first period\n",
        "A[0] = 1\n",
        "\n",
        "# To add a 1% government shock in the first period uncomment the following line\n",
        "# G[0] = 1"
      ],
      "execution_count": null,
      "outputs": []
    },
    {
      "cell_type": "code",
      "metadata": {
        "id": "sEl1W9n0FiTR"
      },
      "source": [
        "# Iterate over the periods and compute the variables sequentially\n",
        "for t in range(T):\n",
        "    if t > 0:\n",
        "        # Variables which only need values from the past iteration (state variables)\n",
        "        A[t] = rho_A * A[t-1]                                # Eq. (5.9)\n",
        "        G[t] = rho_G * G[t-1]                                # Eq. (5.11)\n",
        "        K[t] = b_KK * K[t-1] + b_KA * A[t-1] + b_KG * G[t-1] # Eq. (5.53)\n",
        "    # Variables which need the variables just computed in this same iteration (control variables and output)\n",
        "    C[t] = a_CK * K[t] + a_CA * A[t] + a_CG * G[t]       # Eq. (5.51)\n",
        "    L[t] = a_LK * K[t] + a_LA * A[t] + a_LG * G[t]       # Eq. (5.52)\n",
        "    Y[t] = alpha * K[t] + (1 - alpha) * (L[t] + A[t])    # Eq. (5.54)"
      ],
      "execution_count": null,
      "outputs": []
    },
    {
      "cell_type": "code",
      "metadata": {
        "id": "ojqGiNiMFiTS"
      },
      "source": [
        "# Plot the results\n",
        "plt.figure(figsize=(12,8))  # Define plot size\n",
        "plt.grid()\n",
        "plt.plot(A, label = \"A (Technology)\") # Plot path of technology\n",
        "plt.plot(K, label = \"K (Capital)\")    # Plot path of capital\n",
        "plt.plot(L, label = \"L (Labor)\")      # Plot path of labor\n",
        "# Add a horizontal line at zero\n",
        "plt.hlines(0, 0, T, linestyles = \"dashed\", colors = \"grey\")\n",
        "plt.legend() # Add the legend (A, K, L) top right\n",
        "# Scale the y-axis similarly to what is found in the book\n",
        "plt.axis(ymin = -0.2, ymax = 1)\n",
        "# Add a title\n",
        "plt.title(\"Effect of a technology shock on the paths of technology, capital and labor\")\n",
        "plt.show() # Display the plot"
      ],
      "execution_count": null,
      "outputs": []
    },
    {
      "cell_type": "code",
      "metadata": {
        "id": "5mM3OR52FiTS"
      },
      "source": [
        "# Plot the results\n",
        "plt.figure(figsize=(12,8))  # Define plot size\n",
        "plt.grid()\n",
        "plt.plot(C, label = \"C (Consumption)\")  # Plot path of consumption\n",
        "plt.plot(Y, label = \"Y (Output)\")       # Plot path of output\n",
        "# Add a horizontal line at zero\n",
        "plt.hlines(0, 0, T, linestyles = \"dashed\", colors = \"grey\")\n",
        "plt.legend() # Add the legend (C, Y) top right\n",
        "# Scale the y-axis similarly to what is found in the book\n",
        "plt.axis(ymin = -0.2, ymax = 1)\n",
        "# Add a title\n",
        "plt.title(\"Effect of a technology shock on the paths of output and consumption\")\n",
        "plt.show() # Display the plot"
      ],
      "execution_count": null,
      "outputs": []
    },
    {
      "cell_type": "markdown",
      "metadata": {
        "id": "qPSu7QoKFiTT"
      },
      "source": [
        "### Bonus: Effect of a 1% shock to government spending"
      ]
    },
    {
      "cell_type": "code",
      "metadata": {
        "id": "aZfmdvhCFiTT"
      },
      "source": [
        "# Initialize empty Tx1 vectors for all variables of interest\n",
        "A = np.zeros(T)\n",
        "G = np.zeros(T)\n",
        "K = np.zeros(T)\n",
        "C = np.zeros(T)\n",
        "L = np.zeros(T)\n",
        "Y = np.zeros(T)"
      ],
      "execution_count": null,
      "outputs": []
    },
    {
      "cell_type": "code",
      "metadata": {
        "id": "PVf4DD_ZFiTU"
      },
      "source": [
        "# Add a 1% government spending shock to the first period\n",
        "G[0] = 1"
      ],
      "execution_count": null,
      "outputs": []
    },
    {
      "cell_type": "code",
      "metadata": {
        "id": "8HwzSDZ5FiTV"
      },
      "source": [
        "# Iterate over the periods and compute the variables sequentially\n",
        "for t in range(T):\n",
        "    if t > 0:\n",
        "        # Variables which only need values from the past iteration (state variables)\n",
        "        A[t] = rho_A * A[t-1]                                # Eq. (5.9)\n",
        "        G[t] = rho_G * G[t-1]                                # Eq. (5.11)\n",
        "        K[t] = b_KK * K[t-1] + b_KA * A[t-1] + b_KG * G[t-1] # Eq. (5.53)\n",
        "    # Variables which need the variables just computed in this same iteration (control variables and output)\n",
        "    C[t] = a_CK * K[t] + a_CA * A[t] + a_CG * G[t]       # Eq. (5.51)\n",
        "    L[t] = a_LK * K[t] + a_LA * A[t] + a_LG * G[t]       # Eq. (5.52)\n",
        "    Y[t] = alpha * K[t] + (1 - alpha) * (L[t] + A[t])    # Eq. (5.54)"
      ],
      "execution_count": null,
      "outputs": []
    },
    {
      "cell_type": "code",
      "metadata": {
        "id": "fy6dmDrXFiTV"
      },
      "source": [
        "# Plot the results\n",
        "plt.figure(figsize=(12,8))  # Define plot size\n",
        "plt.grid()\n",
        "plt.plot(K, label = \"K (Capital)\")    # Plot path of capital\n",
        "plt.plot(L, label = \"L (Labor)\")      # Plot path of labor\n",
        "# Add a horizontal line at zero\n",
        "plt.hlines(0, 0, T, linestyles = \"dashed\", colors = \"grey\")\n",
        "plt.legend() # Add the legend (A, K, L) top right\n",
        "# Scale the y-axis similarly to what is found in the book\n",
        "plt.axis(ymin = -0.2, ymax = 0.2)\n",
        "# Add a title\n",
        "plt.title(\"Effect of a government spending shock on the paths of capital and labor\")\n",
        "plt.show() # Display the plot"
      ],
      "execution_count": null,
      "outputs": []
    },
    {
      "cell_type": "code",
      "metadata": {
        "id": "pMPmBj2BFiTW"
      },
      "source": [
        "# Plot the results\n",
        "plt.figure(figsize=(12,8))  # Define plot size\n",
        "plt.grid()\n",
        "plt.plot(C, label = \"C (Consumption)\")  # Plot path of consumption\n",
        "plt.plot(Y, label = \"Y (Output)\")       # Plot path of output\n",
        "# Add a horizontal line at zero\n",
        "plt.hlines(0, 0, 40, linestyles = \"dashed\", colors = \"grey\")\n",
        "plt.legend() # Add the legend (C, Y) top right\n",
        "# Scale the y-axis similarly to what is found in the book\n",
        "plt.axis(ymin = -0.2, ymax = 0.2)\n",
        "# Add a title\n",
        "plt.title(\"Effect of a government spending shock on the paths of output and consumption\")\n",
        "plt.show() # Display the plot"
      ],
      "execution_count": null,
      "outputs": []
    },
    {
      "cell_type": "markdown",
      "metadata": {
        "id": "MagZuac9FiTW"
      },
      "source": [
        "## Bonus: IPywidgets and interactive plots\n",
        "[IPywidgets](https://ipywidgets.readthedocs.io/en/latest/index.html) lets you build interactive GUI within your notebook.\n",
        "\n",
        "It can be pretty useful if you want to observe how something changes with its inputs or when you have to present the results of your data exploration to your peers as you can just modify the inputs and have the results refresh automatically. To fully use this, however, you need to understand what functions are in Python and how they work."
      ]
    },
    {
      "cell_type": "code",
      "metadata": {
        "id": "3RJ5WinfFiTX"
      },
      "source": [
        "# Import the necessary module to use IPywidgets\n",
        "import ipywidgets as widgets"
      ],
      "execution_count": null,
      "outputs": []
    },
    {
      "cell_type": "code",
      "metadata": {
        "id": "cVkJbg_HFiTX"
      },
      "source": [
        "# Create a function taking the number of periods and the shock to technology and to government spending as parameters\n",
        "# This follows the same logic as what we did above but packed in a function, allowing to simply pass 3 parameters\n",
        "def balanced_growth_path(T, shock_A, shock_G):\n",
        "    # Initialize empty Tx1 vectors for all variables of interest\n",
        "    A = np.zeros(T)\n",
        "    G = np.zeros(T)\n",
        "    K = np.zeros(T)\n",
        "    C = np.zeros(T)\n",
        "    L = np.zeros(T)\n",
        "    Y = np.zeros(T)\n",
        "    G[0] = shock_G\n",
        "    A[0] = shock_A\n",
        "    # Iterate over the periods and compute the variables sequentially (exact same as above)\n",
        "    for t in range(1, T):\n",
        "        if t > 0:\n",
        "            # Variables which only need values from the past iteration (state variables)\n",
        "            A[t] = rho_A * A[t-1]                                # Eq. (5.9)\n",
        "            G[t] = rho_G * G[t-1]                                # Eq. (5.11)\n",
        "            K[t] = b_KK * K[t-1] + b_KA * A[t-1] + b_KG * G[t-1] # Eq. (5.53)\n",
        "        # Variables which need the variables just computed in this same iteration (control variables and output)\n",
        "        C[t] = a_CK * K[t] + a_CA * A[t] + a_CG * G[t]       # Eq. (5.51)\n",
        "        L[t] = a_LK * K[t] + a_LA * A[t] + a_LG * G[t]       # Eq. (5.52)\n",
        "        Y[t] = alpha * K[t] + (1 - alpha) * (L[t] + A[t])    # Eq. (5.54)\n",
        "    return A, G, K, C, L, Y"
      ],
      "execution_count": null,
      "outputs": []
    },
    {
      "cell_type": "code",
      "metadata": {
        "id": "nF8njFQiFiTX"
      },
      "source": [
        "# Create a function which takes in the number of periods as well as both the shock to technology and government spending as input\n",
        "# Additionally, this function takes in a list called `variables_to_plot`. The function will plot a graph according to the variables passed in this list\n",
        "def plot_bgp(T, shock_A, shock_G, variables_to_plot):\n",
        "    # Compute the variables using the function we defined above\n",
        "    A, G, K, C, L, Y = balanced_growth_path(T, shock_A, shock_G)\n",
        "    # Plot the results\n",
        "    plt.figure(figsize=(12,8))  # Define plot size\n",
        "    plt.grid()\n",
        "    # Plot path of technology\n",
        "    if \"A\" in variables_to_plot:\n",
        "        plt.plot(A[:-1], label = \"A (Technology)\")\n",
        "    # Plot path of government spending\n",
        "    if \"G\" in variables_to_plot:\n",
        "        plt.plot(G[:-1], label = \"G (Government spending)\")\n",
        "    # Plot path of capital\n",
        "    if \"K\" in variables_to_plot:\n",
        "        plt.plot(K[:-1], label = \"K (Capital)\")\n",
        "    # Plot path of labor\n",
        "    if \"L\" in variables_to_plot:\n",
        "        plt.plot(L[1:], label = \"L (Labor)\")\n",
        "    # Plot path of output\n",
        "    if \"Y\" in variables_to_plot:\n",
        "        plt.plot(Y[1:], label = \"Y (Output)\")\n",
        "    # Plot path of consumption\n",
        "    if \"C\" in variables_to_plot:\n",
        "        plt.plot(C[1:], label = \"C (Consumption)\")\n",
        "    # Add a horizontal line at zero\n",
        "    plt.hlines(0, 0, T, linestyles = \"dashed\", colors = \"grey\")\n",
        "    if len(variables_to_plot):\n",
        "        plt.legend() # Add the legend (A, K, L) top right\n",
        "    # Add a title\n",
        "    plt.title(\"Effect of a government spending shock on the paths of capital and labor\")\n",
        "    plt.show() # Display the plot"
      ],
      "execution_count": null,
      "outputs": []
    },
    {
      "cell_type": "code",
      "metadata": {
        "id": "KIz5vHyoFiTX"
      },
      "source": [
        "# Create a slider to choose the number of periods, ranging from 10 to 200, initialized at 40\n",
        "slider_time = widgets.IntSlider(value = 40, min = 10, max = 200)\n",
        "# Create a slider to choose the shock to government spending, from 0% to 5%\n",
        "slider_shock_G = widgets.FloatSlider(min = 0, max = 5)\n",
        "# Create a slider to choose the shock to technology, from 0% to 5%\n",
        "slider_shock_A = widgets.FloatSlider(min = 0, max = 5)\n",
        "# Create a selection box containing the variables we can choose from to add to the plot\n",
        "variables_to_plot = widgets.SelectMultiple(options={\"Technology\": \"A\", \"Government spending\": \"G\",\n",
        "                                                    \"Capital\": \"K\", \"Consumption\": \"C\", \"Labor\": \"L\", \"Output\": \"Y\"},\n",
        "                                          layout=widgets.Layout(height = \"140px\"))"
      ],
      "execution_count": null,
      "outputs": []
    },
    {
      "cell_type": "code",
      "metadata": {
        "id": "l8M0Y27wFiTX"
      },
      "source": [
        "# Display the full widget\n",
        "widgets.interact(plot_bgp, T = slider_time, shock_A = slider_shock_A, shock_G = slider_shock_G, variables_to_plot = variables_to_plot)"
      ],
      "execution_count": null,
      "outputs": []
    },
    {
      "cell_type": "code",
      "metadata": {
        "id": "iZiwMWGVMvBq"
      },
      "source": [],
      "execution_count": null,
      "outputs": []
    }
  ]
}