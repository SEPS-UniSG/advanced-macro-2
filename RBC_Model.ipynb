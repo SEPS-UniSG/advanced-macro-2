{
 "cells": [
  {
   "cell_type": "markdown",
   "metadata": {
    "id": "j7qVBVmUFiTB"
   },
   "source": [
    "# Advanced Macro II\n",
    "## Real-Business-Cycle Model\n",
    "[Romer, David. (2019). Advanced Macroeconomics. New York: McGraw-Hill/Irwin.](https://www.mheducation.com/highered/product/advanced-macroeconomics-romer/M9781260185218.html)\n",
    "\n",
    "In this notebook, you will compute and and plot impulse responses for shocks to technology and government spending according to a real-business cycle model. For the theory behind this notebook, see Romer (2019), chapter 5, *Real-Business-Cycle Theory*. The key equations are below. Their derivation and explanation is in the book."
   ]
  },
  {
   "cell_type": "markdown",
   "metadata": {
    "id": "VsIpS6HkFiTE"
   },
   "source": [
    "### Key equations for the log-deviations from trend\n",
    "Consumption and employment (eq. (5.51) and (5.52)):\n",
    "\n",
    "$$ \\begin{aligned}\n",
    "\\tilde{C}_{t+1} \\simeq a_{CK} \\tilde{K}_{t+1} + a_{CA} \\tilde{A}_{t+1} + a_{CG} \\tilde{G}_{t+1} \\\\\n",
    "\\tilde{L}_{t+1} \\simeq a_{LK} \\tilde{K}_{t+1} + a_{LA} \\tilde{A}_{t+1} + a_{LG} \\tilde{G}_{t+1}\n",
    "\\end{aligned}$$\n",
    "\n",
    "Capital (eq. (5.53)):\n",
    "\n",
    "$$ \\tilde{K}_{t+1} \\simeq b_{KK} \\tilde{K}_{t} + b_{KA} \\tilde{A}_{t} + b_{KG} \\tilde{G}_{t} $$\n",
    "\n",
    "Technology and government spending (eq. (5.9) and (5.11)):\n",
    "\n",
    "$$ \\begin{aligned}\n",
    "\\tilde{A}_{t+1} \\simeq \\rho_A \\tilde{A}_{t} \\\\\n",
    "\\tilde{G}_{t+1} \\simeq \\rho_G \\tilde{G}_{t}\n",
    "\\end{aligned}$$\n",
    "\n",
    "Output (eq. (5.54)):\n",
    "\n",
    "$$ \\tilde{Y}_t = \\alpha \\tilde{K}_t + (1 - \\alpha) (\\tilde{L}_t + \\tilde{A}_t) $$"
   ]
  },
  {
   "cell_type": "markdown",
   "metadata": {
    "id": "OqoUWpmFFiTF"
   },
   "source": [
    "### Computing the impulse responses\n",
    "With these key equations, we discuss the solution algorithm. Notice that we have two types of equations:\n",
    "1. Equations for the evolution of the state variables, in which time subscripts on the right hand side are smaller than those on the left-hand side ($\\tilde{A}_{t+1}$, $\\tilde{G}_{t+1}$, and $\\tilde{K}_{t+1}$)\n",
    "2. Equations for the controls and thus output, in which time subscripts of both sides of the equation are equal ($\\tilde{C}_{t+1}$, $\\tilde{L}_{t+1}$, and $\\tilde{Y}_t$)\n",
    "\n",
    "Using starting values (either the ones on the balanced growth path, or those implied by setting the initial value of the specific shocks, e.g. $\\tilde{A}_0 = 1$ to retrieve the impact of a $1\\%$ technology shock), we can iterate over the time periods $t = 1, 2, \\dots, T$ and compute the value of each variable in the above equations based on the value we computed in the last iteration (or based on the the initial values in the first iteration). Note that it is crucial to start by computing the log-deviations of the state variables $\\tilde{A}_t$, $\\tilde{G}_t$, and $\\tilde{K}_t$ because these values are needed **in the same time iteration** for the computation of the log-deviations of the control variables $\\tilde{C}_{t}$ and $\\tilde{L}_{t}$, and thus $\\tilde{Y}_t$ \n",
    "\n",
    "**Note on the units:** because the variables are log-deviations from the balanced growth path, a deviation of $1$ denotes approximately a deviation of $1\\%$."
   ]
  },
  {
   "cell_type": "markdown",
   "metadata": {
    "id": "uDgMi_atFiTH"
   },
   "source": [
    "Let's start with a short example, illustrating the effect of a technology shock on the deviation of technology from the steady state."
   ]
  },
  {
   "cell_type": "code",
   "execution_count": null,
   "metadata": {
    "id": "nCazQbQmFiTI"
   },
   "outputs": [],
   "source": [
    "# Before we start, import a linear algebra and plotting library\n",
    "import numpy as np\n",
    "import matplotlib.pyplot as plt"
   ]
  },
  {
   "cell_type": "code",
   "execution_count": null,
   "metadata": {
    "id": "gCpBoiE3FiTK"
   },
   "outputs": [],
   "source": [
    "T = 40                    # Number of periods we consider\n",
    "rho_A = 0.95              # AR(1) coefficient of technology shock, taken from chapter 5.7\n",
    "A = np.zeros(T)           # Create a Tx1 vector of zeros\n",
    "A[0] = 1                  # Set the first element of this vector to 1 (this is the technology shock of 1%)\n",
    "for t in range(1, T):     # Iterate over the time periods and fill the vector progressively\n",
    "    A[t] = rho_A * A[t-1] # Compute the element of the vector according to the formula for technology above"
   ]
  },
  {
   "cell_type": "code",
   "execution_count": null,
   "metadata": {
    "colab": {
     "base_uri": "https://localhost:8080/",
     "height": 374
    },
    "id": "JHTD_6X5FiTL",
    "outputId": "58145fc4-7a80-491b-dea9-ee24fc96f5d3"
   },
   "outputs": [],
   "source": [
    "# Plot the results to see what A looks like\n",
    "plt.figure(figsize=(12,6))  # Define plot size\n",
    "plt.plot(A, label = \"A (Technology)\") # Plot path of technology\n",
    "plt.legend() # Add the legend top right\n",
    "plt.show() # Display the plot"
   ]
  },
  {
   "cell_type": "markdown",
   "metadata": {
    "id": "KXEfvz3-FiTN"
   },
   "source": [
    "We see how $\\tilde{A}_t$ gradually decays to $0$ as $t$ increases, as expected given the autocorrelation coeficient which is less than 1. Now let's compute all the variables which characterize the dynamic equilibrium of the economy."
   ]
  },
  {
   "cell_type": "markdown",
   "metadata": {
    "id": "y8jEEbJhsViM"
   },
   "source": [
    "### Set the deep parameters (for preferences and technology) as in chapter 5.7 in Romer.\n",
    "\n",
    "You can also change these parameters and re-run the notebook to see how this affects the equilibrium of the economy!"
   ]
  },
  {
   "cell_type": "code",
   "execution_count": null,
   "metadata": {
    "id": "AqR7dKdDFiTN"
   },
   "outputs": [],
   "source": [
    "# Set the deep parameters as in chapter 5.7\n",
    "T = 40        # Number of periods\n",
    "alpha = 1/3   # Cobb-Douglas parameter (calibrated to the capital share of output)\n",
    "g = 0.005     # Productivity growth rate\n",
    "n = 0.0025    \n",
    "r = 0.015     # Interest rate\n",
    "GY = 0.2      # Ratio of G to Y on the balanced growth path\n",
    "l = 1/3       # Labor supply on the balanced growth path\n",
    "delta = 0.025 # Depreciation rate\n",
    "rho_A = 0.95  # AR(1) coefficient of technology shock\n",
    "rho_G = 0.95  # AR(1) coefficient of government spending shock"
   ]
  },
  {
   "cell_type": "markdown",
   "metadata": {
    "id": "uaOHzgdGsViM"
   },
   "source": [
    "### Calculate coefficients of the key equations "
   ]
  },
  {
   "cell_type": "markdown",
   "metadata": {
    "id": "YISpQ3nesViM"
   },
   "source": [
    "The following step is necessary to express coefficients $a_{CK}, a_{LK}, a_{CA}, a_{LA}, a_{CG}, a_{LG}, b_{KK}, b_{KA}, b_{KG}$ in the key equations as functions of the deep parameters. This allows us to fully characterize the model in terms of the parameters (and thus change them to see how this impacts the equilibrium). However, solving a system of equations with Python is not the goal of this lab session. Consequently the code is not discussed in detail.\n",
    "\n",
    "To find out how to derive these equations, follow chapter 5.6 and solve exercise 5.15."
   ]
  },
  {
   "cell_type": "code",
   "execution_count": null,
   "metadata": {
    "id": "qxGIO9FSsViO"
   },
   "outputs": [],
   "source": [
    "# Import the solver library\n",
    "import sympy as sym\n",
    "# Set up the lambda values\n",
    "lambda_1 = (1+r)/np.exp(n+g)\n",
    "lambda_2 = (1-alpha)*(r+delta)/(alpha*np.exp(n+g))\n",
    "lambda_3 = -(r+delta)*GY/(alpha*np.exp(n+g))\n",
    "# Pre-compute and store some factors that repeat across equations below for better code legibility\n",
    "lambda_4 = (1-alpha)*(r+delta)/(1+r)\n",
    "lambda_5 = l/(1-l)+alpha"
   ]
  },
  {
   "cell_type": "code",
   "execution_count": null,
   "metadata": {
    "id": "GYV-Ao6GsViO"
   },
   "outputs": [],
   "source": [
    "# Determine the system of equations and solve it using sympy\n",
    "a_CK, a_LK = sym.symbols('a_CK, a_LK')\n",
    "a_CA, a_LA = sym.symbols('a_CA, a_LA')\n",
    "a_CG, a_LG = sym.symbols('a_CG, a_LG')\n",
    "eq1 = sym.Eq((lambda_4*a_LK-lambda_4-a_CK)*(lambda_1+lambda_2*a_LK+(1-lambda_1-lambda_2-lambda_3)*a_CK), -a_CK)\n",
    "eq2 = sym.Eq((lambda_4*a_LK-lambda_4-a_CK)*(lambda_2*(1+a_LA)+(1-lambda_1-lambda_2-lambda_3)*a_CA)+rho_A*(lambda_4*(1+a_LA)-a_CA), -a_CA)\n",
    "eq3 = sym.Eq((lambda_4*a_LK-lambda_4-a_CK)*(lambda_2*a_LG+lambda_3+(1-lambda_1-lambda_2-lambda_3)*a_CG)+rho_G*(lambda_4*a_LG-a_CG), -a_CG)\n",
    "eq4 = sym.Eq(a_CK+lambda_5*a_LK, alpha)\n",
    "eq5 = sym.Eq(a_CA+lambda_5*a_LA, 1-alpha)\n",
    "eq6 = sym.Eq(a_CG+lambda_5*a_LG, 0)\n",
    "result = sym.solve([eq1, eq2, eq3, eq4, eq5, eq6])"
   ]
  },
  {
   "cell_type": "code",
   "execution_count": null,
   "metadata": {
    "id": "bFLPcOBvsViP"
   },
   "outputs": [],
   "source": [
    "# Extract the parameters from the result\n",
    "a_CK = result[0][a_CK]\n",
    "a_LK = result[0][a_LK]\n",
    "a_CA = result[0][a_CA]\n",
    "a_LA = result[0][a_LA]\n",
    "a_CG = result[0][a_CG]\n",
    "a_LG = result[0][a_LG]\n",
    "# Compute the parameters for equation (5.53)\n",
    "b_KK = lambda_1 + lambda_2 * a_LK + (1 - lambda_1 - lambda_2 - lambda_3) * a_CK\n",
    "b_KA = lambda_2 * (1 + a_LA) + (1 - lambda_1 - lambda_2 - lambda_3) * a_CA\n",
    "b_KG = lambda_2 * a_LG + lambda_3 + (1 - lambda_1 - lambda_2 - lambda_3) * a_CG"
   ]
  },
  {
   "cell_type": "markdown",
   "metadata": {
    "id": "HnrvY0CwFiTO"
   },
   "source": [
    "### Effect of a 1% shock to technology"
   ]
  },
  {
   "cell_type": "code",
   "execution_count": null,
   "metadata": {
    "id": "tZ8D8jWjFiTP"
   },
   "outputs": [],
   "source": [
    "# Initialize empty Tx1 vectors for all variables of interest\n",
    "A = np.zeros(T)\n",
    "G = np.zeros(T)\n",
    "K = np.zeros(T)\n",
    "C = np.zeros(T)\n",
    "L = np.zeros(T)\n",
    "Y = np.zeros(T)\n",
    "w = np.zeros(T)\n",
    "ir = np.zeros(T)"
   ]
  },
  {
   "cell_type": "code",
   "execution_count": null,
   "metadata": {
    "id": "5oA0OnrJFiTR"
   },
   "outputs": [],
   "source": [
    "# Add a 1% techonology shock to the first period\n",
    "A[0] = 1"
   ]
  },
  {
   "cell_type": "code",
   "execution_count": null,
   "metadata": {
    "id": "sEl1W9n0FiTR"
   },
   "outputs": [],
   "source": [
    "# Iterate over the periods and compute the variables sequentially\n",
    "for t in range(T):\n",
    "    if t > 0:\n",
    "        # Variables which only need values from the past iteration (state variables)\n",
    "        A[t] = rho_A * A[t-1]                                # Eq. (5.9)\n",
    "        G[t] = rho_G * G[t-1]                                # Eq. (5.11)\n",
    "        K[t] = b_KK * K[t-1] + b_KA * A[t-1] + b_KG * G[t-1] # Eq. (5.53)\n",
    "    # Variables which need the variables just computed in this same iteration (control variables and output)\n",
    "    C[t] = a_CK * K[t] + a_CA * A[t] + a_CG * G[t]           # Eq. (5.51)\n",
    "    L[t] = a_LK * K[t] + a_LA * A[t] + a_LG * G[t]           # Eq. (5.52)\n",
    "    Y[t] = alpha * K[t] + (1 - alpha) * (L[t] + A[t])        # Eq. (5.54)\n",
    "    w[t] = (1 - alpha) * A[t] + alpha * K[t] - alpha * L[t]  # Eq. (5.46)\n",
    "    ir[t] = 4*(1-alpha)*(r+delta)/(1+r) *(A[t] + L[t] - K[t])"
   ]
  },
  {
   "cell_type": "code",
   "execution_count": null,
   "metadata": {
    "colab": {
     "base_uri": "https://localhost:8080/",
     "height": 499
    },
    "id": "ojqGiNiMFiTS",
    "outputId": "2725c59d-8d7a-4200-c9a6-c8e792b3040b"
   },
   "outputs": [],
   "source": [
    "# Plot the results\n",
    "plt.figure(figsize=(12,8))  # Define plot size\n",
    "plt.grid()\n",
    "plt.plot(A, label = \"A (Technology)\") # Plot path of technology\n",
    "plt.plot(K, label = \"K (Capital)\")    # Plot path of capital\n",
    "plt.plot(L, label = \"L (Labor)\")      # Plot path of labor\n",
    "# Add a horizontal line at zero\n",
    "plt.hlines(0, 0, T, linestyles = \"dashed\", colors = \"grey\") \n",
    "plt.legend() # Add the legend (A, K, L) top right\n",
    "# Scale the y-axis similarly to what is found in the book\n",
    "plt.axis(ymin = -0.2, ymax = 1)\n",
    "# Add a title\n",
    "plt.title(\"Effect of a technology shock on the paths of technology, capital and labor\")\n",
    "plt.show() # Display the plot"
   ]
  },
  {
   "cell_type": "code",
   "execution_count": null,
   "metadata": {
    "colab": {
     "base_uri": "https://localhost:8080/",
     "height": 499
    },
    "id": "5mM3OR52FiTS",
    "outputId": "cc4b9614-d522-423c-81e9-9a4dfe014956"
   },
   "outputs": [],
   "source": [
    "# Plot the results\n",
    "plt.figure(figsize=(12,8))  # Define plot size\n",
    "plt.grid()\n",
    "plt.plot(C, label = \"C (Consumption)\")  # Plot path of consumption\n",
    "plt.plot(Y, label = \"Y (Output)\")       # Plot path of output\n",
    "# Add a horizontal line at zero\n",
    "plt.hlines(0, 0, T, linestyles = \"dashed\", colors = \"grey\") \n",
    "plt.legend() # Add the legend (C, Y) top right\n",
    "# Scale the y-axis similarly to what is found in the book\n",
    "plt.axis(ymin = -0.2, ymax = 1)\n",
    "# Add a title\n",
    "plt.title(\"Effect of a technology shock on the paths of output and consumption\")\n",
    "plt.show() # Display the plot"
   ]
  },
  {
   "cell_type": "code",
   "execution_count": null,
   "metadata": {
    "id": "Vp3_WF2LsViR",
    "outputId": "e0f0d128-1c3c-43a3-e579-aeae79af4ddf"
   },
   "outputs": [],
   "source": [
    "# Plot the results\n",
    "plt.figure(figsize=(12,8))  # Define plot size\n",
    "plt.grid()\n",
    "plt.plot(w, label = \"w (Wage)\")          # Plot path of wage\n",
    "plt.plot(ir, label = \"r (Interest rate)\") # Plot path of interest rate\n",
    "# Add a horizontal line at zero\n",
    "plt.hlines(0, 0, T, linestyles = \"dashed\", colors = \"grey\") \n",
    "plt.legend() # Add the legend (C, Y) top right\n",
    "# Scale the y-axis similarly to what is found in the book\n",
    "plt.axis(ymin = -0.2, ymax = 1)\n",
    "# Add a title\n",
    "plt.title(\"Effect of a technology shock on the paths of wage and interest rate\")\n",
    "plt.show() # Display the plot"
   ]
  },
  {
   "cell_type": "markdown",
   "metadata": {
    "id": "qPSu7QoKFiTT"
   },
   "source": [
    "### Effect of a 1% shock to government spending"
   ]
  },
  {
   "cell_type": "code",
   "execution_count": null,
   "metadata": {
    "id": "aZfmdvhCFiTT"
   },
   "outputs": [],
   "source": [
    "# Initialize empty Tx1 vectors for all variables of interest\n",
    "A = np.zeros(T)\n",
    "G = np.zeros(T)\n",
    "K = np.zeros(T)\n",
    "C = np.zeros(T)\n",
    "L = np.zeros(T)\n",
    "Y = np.zeros(T)\n",
    "w = np.zeros(T)\n",
    "ir = np.zeros(T)"
   ]
  },
  {
   "cell_type": "code",
   "execution_count": null,
   "metadata": {
    "id": "PVf4DD_ZFiTU"
   },
   "outputs": [],
   "source": [
    "# Add a 1% government spending shock to the first period\n",
    "G[0] = 1"
   ]
  },
  {
   "cell_type": "code",
   "execution_count": null,
   "metadata": {
    "id": "8HwzSDZ5FiTV"
   },
   "outputs": [],
   "source": [
    "# Iterate over the periods and compute the variables sequentially\n",
    "for t in range(T):\n",
    "    if t > 0:\n",
    "        # Variables which only need values from the past iteration (state variables)\n",
    "        A[t] = rho_A * A[t-1]                                # Eq. (5.9)\n",
    "        G[t] = rho_G * G[t-1]                                # Eq. (5.11)\n",
    "        K[t] = b_KK * K[t-1] + b_KA * A[t-1] + b_KG * G[t-1] # Eq. (5.53)\n",
    "    # Variables which need the variables just computed in this same iteration (control variables and output)\n",
    "    C[t] = a_CK * K[t] + a_CA * A[t] + a_CG * G[t]           # Eq. (5.51)\n",
    "    L[t] = a_LK * K[t] + a_LA * A[t] + a_LG * G[t]           # Eq. (5.52)\n",
    "    Y[t] = alpha * K[t] + (1 - alpha) * (L[t] + A[t])        # Eq. (5.54)\n",
    "    w[t] = (1 - alpha) * A[t] + alpha * K[t] - alpha * L[t]  # Eq. (5.46)\n",
    "    ir[t] = 4*(1-alpha)*(r+delta)/(1+r) *(A[t] + L[t] - K[t])"
   ]
  },
  {
   "cell_type": "code",
   "execution_count": null,
   "metadata": {
    "colab": {
     "base_uri": "https://localhost:8080/",
     "height": 499
    },
    "id": "fy6dmDrXFiTV",
    "outputId": "0c04c687-aa14-4e44-c7e0-721f99c2f1c0"
   },
   "outputs": [],
   "source": [
    "# Plot the results\n",
    "plt.figure(figsize=(12,8))  # Define plot size\n",
    "plt.grid()\n",
    "plt.plot(K, label = \"K (Capital)\")    # Plot path of capital\n",
    "plt.plot(L, label = \"L (Labor)\")      # Plot path of labor\n",
    "# Add a horizontal line at zero\n",
    "plt.hlines(0, 0, T, linestyles = \"dashed\", colors = \"grey\") \n",
    "plt.legend() # Add the legend (A, K, L) top right\n",
    "# Scale the y-axis similarly to what is found in the book\n",
    "plt.axis(ymin = -0.2, ymax = 0.2)\n",
    "# Add a title\n",
    "plt.title(\"Effect of a government spending shock on the paths of capital and labor\")\n",
    "plt.show() # Display the plot"
   ]
  },
  {
   "cell_type": "code",
   "execution_count": null,
   "metadata": {
    "colab": {
     "base_uri": "https://localhost:8080/",
     "height": 499
    },
    "id": "pMPmBj2BFiTW",
    "outputId": "d856f15d-d601-4f8c-d0cc-4e05423cb2f8"
   },
   "outputs": [],
   "source": [
    "# Plot the results\n",
    "plt.figure(figsize=(12,8))  # Define plot size\n",
    "plt.grid()\n",
    "plt.plot(C, label = \"C (Consumption)\")  # Plot path of consumption\n",
    "plt.plot(Y, label = \"Y (Output)\")       # Plot path of output\n",
    "# Add a horizontal line at zero\n",
    "plt.hlines(0, 0, 40, linestyles = \"dashed\", colors = \"grey\") \n",
    "plt.legend() # Add the legend (C, Y) top right\n",
    "# Scale the y-axis similarly to what is found in the book\n",
    "plt.axis(ymin = -0.2, ymax = 0.2)\n",
    "# Add a title\n",
    "plt.title(\"Effect of a government spending shock on the paths of output and consumption\")\n",
    "plt.show() # Display the plot"
   ]
  },
  {
   "cell_type": "code",
   "execution_count": null,
   "metadata": {
    "id": "Kj_MZpBjsViT",
    "outputId": "fb8b9e16-edc3-4bcf-ba4b-09fe9b4a4d04"
   },
   "outputs": [],
   "source": [
    "# Plot the results\n",
    "plt.figure(figsize=(12,8))  # Define plot size\n",
    "plt.grid()\n",
    "plt.plot(w, label = \"w (Wage)\")          # Plot path of wage\n",
    "plt.plot(ir, label = \"r (Interest rate)\") # Plot path of interest rate\n",
    "# Add a horizontal line at zero\n",
    "plt.hlines(0, 0, T, linestyles = \"dashed\", colors = \"grey\") \n",
    "plt.legend() # Add the legend (C, Y) top right\n",
    "# Scale the y-axis similarly to what is found in the book\n",
    "plt.axis(ymin = -0.2, ymax = 0.2)\n",
    "# Add a title\n",
    "plt.title(\"Effect of a technology shock on the paths of wage and interest rate\")\n",
    "plt.show() # Display the plot"
   ]
  },
  {
   "cell_type": "markdown",
   "metadata": {
    "id": "MagZuac9FiTW"
   },
   "source": [
    "## Bonus: IPywidgets and interactive plots\n",
    "[IPywidgets](https://ipywidgets.readthedocs.io/en/latest/index.html) lets you build interactive GUI within your notebook. \n",
    "\n",
    "It can be pretty useful if you want to observe how something changes with its inputs or when you have to present the results of your data exploration to your peers as you can just modify the inputs and have the results refresh automatically. To apply this, you need to understand what functions are in Python and how they work."
   ]
  },
  {
   "cell_type": "code",
   "execution_count": null,
   "metadata": {
    "id": "3RJ5WinfFiTX"
   },
   "outputs": [],
   "source": [
    "# Import the necessary module to use IPywidgets\n",
    "import ipywidgets as widgets"
   ]
  },
  {
   "cell_type": "code",
   "execution_count": null,
   "metadata": {
    "id": "cVkJbg_HFiTX"
   },
   "outputs": [],
   "source": [
    "# Create a function taking the number of periods and the shock to technology and to government spending as parameters\n",
    "# This follows the same logic as what we did above but packed in a function, allowing to simply pass 3 parameters\n",
    "def balanced_growth_path(T, shock_A, shock_G):\n",
    "    # Initialize empty Tx1 vectors for all variables of interest\n",
    "    A = np.zeros(T)\n",
    "    G = np.zeros(T)\n",
    "    K = np.zeros(T)\n",
    "    C = np.zeros(T)\n",
    "    L = np.zeros(T)\n",
    "    Y = np.zeros(T)\n",
    "    w = np.zeros(T)\n",
    "    ir = np.zeros(T)\n",
    "    G[0] = shock_G\n",
    "    A[0] = shock_A\n",
    "    # Iterate over the periods and compute the variables sequentially (exact same as above)\n",
    "    for t in range(1, T):\n",
    "        if t > 0:\n",
    "            # Variables which only need values from the past iteration (state variables)\n",
    "            A[t] = rho_A * A[t-1]                                # Eq. (5.9)\n",
    "            G[t] = rho_G * G[t-1]                                # Eq. (5.11)\n",
    "            K[t] = b_KK * K[t-1] + b_KA * A[t-1] + b_KG * G[t-1] # Eq. (5.53)\n",
    "        # Variables which need the variables just computed in this same iteration (control variables and output)\n",
    "        C[t] = a_CK * K[t] + a_CA * A[t] + a_CG * G[t]       # Eq. (5.51)\n",
    "        L[t] = a_LK * K[t] + a_LA * A[t] + a_LG * G[t]       # Eq. (5.52)\n",
    "        Y[t] = alpha * K[t] + (1 - alpha) * (L[t] + A[t])    # Eq. (5.54)\n",
    "        w[t] = (1 - alpha) * A[t] + alpha * K[t] - alpha * L[t]  # Eq. (5.46)\n",
    "        ir[t] = 4*(1-alpha)*(r+delta)/(1+r) *(A[t] + L[t] - K[t])\n",
    "    return A, G, K, C, L, Y    "
   ]
  },
  {
   "cell_type": "code",
   "execution_count": null,
   "metadata": {
    "id": "nF8njFQiFiTX"
   },
   "outputs": [],
   "source": [
    "# Create a function which takes in the number of periods as well as both the shock to technology and government spending as input\n",
    "# Additionally, this function takes in a list called `variables_to_plot`. The function will plot a graph according to the variables passed in this list\n",
    "def plot_bgp(T, shock_A, shock_G, variables_to_plot):\n",
    "    # Compute the variables using the function we defined above\n",
    "    A, G, K, C, L, Y = balanced_growth_path(T, shock_A, shock_G)\n",
    "    # Plot the results\n",
    "    plt.figure(figsize=(12,8))  # Define plot size\n",
    "    plt.grid()\n",
    "    # Plot path of technology\n",
    "    if \"A\" in variables_to_plot:\n",
    "        plt.plot(A[:-1], label = \"A (Technology)\")\n",
    "    # Plot path of government spending\n",
    "    if \"G\" in variables_to_plot:\n",
    "        plt.plot(G[:-1], label = \"G (Government spending)\")\n",
    "    # Plot path of capital\n",
    "    if \"K\" in variables_to_plot:\n",
    "        plt.plot(K[:-1], label = \"K (Capital)\")   \n",
    "    # Plot path of labor\n",
    "    if \"L\" in variables_to_plot:\n",
    "        plt.plot(L[1:], label = \"L (Labor)\")\n",
    "    # Plot path of output\n",
    "    if \"Y\" in variables_to_plot:\n",
    "        plt.plot(Y[1:], label = \"Y (Output)\")\n",
    "    # Plot path of consumption\n",
    "    if \"C\" in variables_to_plot:\n",
    "        plt.plot(C[1:], label = \"C (Consumption)\")\n",
    "    # Plot path of wage\n",
    "    if \"w\" in variables_to_plot:\n",
    "        plt.plot(w[1:], label = \"w (Wage)\")\n",
    "    # Plot path of interest rate\n",
    "    if \"r\" in variables_to_plot:\n",
    "        plt.plot(C[1:], label = \"r (Interest rate)\")\n",
    "    # Add a horizontal line at zero\n",
    "    plt.hlines(0, 0, T, linestyles = \"dashed\", colors = \"grey\") \n",
    "    if len(variables_to_plot):\n",
    "        plt.legend() # Add the legend (A, K, L) top right\n",
    "    # Add a title\n",
    "    plt.title(\"Effect of a government spending shock on the paths of capital and labor\")\n",
    "    plt.show() # Display the plot"
   ]
  },
  {
   "cell_type": "code",
   "execution_count": null,
   "metadata": {
    "id": "KIz5vHyoFiTX"
   },
   "outputs": [],
   "source": [
    "# Create a slider to choose the number of periods, ranging from 10 to 200, initialized at 40\n",
    "slider_time = widgets.IntSlider(value = 40, min = 10, max = 200)\n",
    "# Create a slider to choose the shock to government spending, from 0% to 5%\n",
    "slider_shock_G = widgets.FloatSlider(min = 0, max = 5)\n",
    "# Create a slider to choose the shock to technology, from 0% to 5%\n",
    "slider_shock_A = widgets.FloatSlider(min = 0, max = 5)\n",
    "# Create a selection box containing the variables we can choose from to add to the plot\n",
    "variables_to_plot = widgets.SelectMultiple(options={\"Technology\": \"A\", \"Government spending\": \"G\",\n",
    "                                                    \"Capital\": \"K\", \"Consumption\": \"C\", \"Labor\": \"L\", \"Output\": \"Y\",\n",
    "                                                    \"Wage\": \"w\", \"Interest rate\": \"r\"},\n",
    "                                          layout=widgets.Layout(height = \"180px\"))"
   ]
  },
  {
   "cell_type": "code",
   "execution_count": null,
   "metadata": {
    "colab": {
     "base_uri": "https://localhost:8080/",
     "height": 725,
     "referenced_widgets": [
      "22cc57ed6b8a4d269e681ec6b7785d9a",
      "335e833f4a594e5cab03155311fae980",
      "e464c86330454e1e9252522b04316789",
      "3c21d460e751472b88c37630dabee615",
      "f26ca8bbfa42454abbefe5cb1fa42137",
      "fa1be45a75424cdb8c2c79c03a1cce11",
      "09c44ef2f46040549403eba27262b4d1",
      "5f3806f34af041219acfbade0aaa59de",
      "120d0b5f29e34c158b616aea33706851",
      "9dd68d6ff6904872a4a15c5c6c6e1e9a",
      "8fbb291e956d4adc87993c9de6c5a64f",
      "aa7daefc17e4471d9d1b0ede6ba3aac7",
      "1064fce88d644c04a3fbdfeb1ad9d030",
      "0df69209240644a7ac8353022a0f7a2a",
      "623fa102f35d4528a7f64361a4cc3fcb",
      "9bac82d00e6c43da83e68c88be7ea2e1",
      "7088d5ddf2de42f999189f5bfa3c4f45"
     ]
    },
    "id": "l8M0Y27wFiTX",
    "outputId": "21271ae0-e363-4776-c33a-6af971880b9c"
   },
   "outputs": [],
   "source": [
    "# Display the full widget\n",
    "widgets.interact(plot_bgp, T = slider_time, shock_A = slider_shock_A, shock_G = slider_shock_G, variables_to_plot = variables_to_plot)"
   ]
  }
 ],
 "metadata": {
  "colab": {
   "collapsed_sections": [],
   "name": "RBC_Model.ipynb",
   "provenance": []
  },
  "kernelspec": {
   "display_name": "Python 3",
   "language": "python",
   "name": "python3"
  },
  "language_info": {
   "codemirror_mode": {
    "name": "ipython",
    "version": 3
   },
   "file_extension": ".py",
   "mimetype": "text/x-python",
   "name": "python",
   "nbconvert_exporter": "python",
   "pygments_lexer": "ipython3",
   "version": "3.8.5"
  },
  "widgets": {
   "application/vnd.jupyter.widget-state+json": {
    "09c44ef2f46040549403eba27262b4d1": {
     "model_module": "@jupyter-widgets/output",
     "model_name": "OutputModel",
     "state": {
      "_dom_classes": [],
      "_model_module": "@jupyter-widgets/output",
      "_model_module_version": "1.0.0",
      "_model_name": "OutputModel",
      "_view_count": null,
      "_view_module": "@jupyter-widgets/output",
      "_view_module_version": "1.0.0",
      "_view_name": "OutputView",
      "layout": "IPY_MODEL_9bac82d00e6c43da83e68c88be7ea2e1",
      "msg_id": "",
      "outputs": [
       {
        "image/png": "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\n",
        "metadata": {
         "needs_background": "light",
         "tags": []
        },
        "output_type": "display_data",
        "text/plain": "<Figure size 864x576 with 1 Axes>"
       }
      ]
     }
    },
    "0df69209240644a7ac8353022a0f7a2a": {
     "model_module": "@jupyter-widgets/controls",
     "model_name": "DescriptionStyleModel",
     "state": {
      "_model_module": "@jupyter-widgets/controls",
      "_model_module_version": "1.5.0",
      "_model_name": "DescriptionStyleModel",
      "_view_count": null,
      "_view_module": "@jupyter-widgets/base",
      "_view_module_version": "1.2.0",
      "_view_name": "StyleView",
      "description_width": ""
     }
    },
    "1064fce88d644c04a3fbdfeb1ad9d030": {
     "model_module": "@jupyter-widgets/base",
     "model_name": "LayoutModel",
     "state": {
      "_model_module": "@jupyter-widgets/base",
      "_model_module_version": "1.2.0",
      "_model_name": "LayoutModel",
      "_view_count": null,
      "_view_module": "@jupyter-widgets/base",
      "_view_module_version": "1.2.0",
      "_view_name": "LayoutView",
      "align_content": null,
      "align_items": null,
      "align_self": null,
      "border": null,
      "bottom": null,
      "display": null,
      "flex": null,
      "flex_flow": null,
      "grid_area": null,
      "grid_auto_columns": null,
      "grid_auto_flow": null,
      "grid_auto_rows": null,
      "grid_column": null,
      "grid_gap": null,
      "grid_row": null,
      "grid_template_areas": null,
      "grid_template_columns": null,
      "grid_template_rows": null,
      "height": null,
      "justify_content": null,
      "justify_items": null,
      "left": null,
      "margin": null,
      "max_height": null,
      "max_width": null,
      "min_height": null,
      "min_width": null,
      "object_fit": null,
      "object_position": null,
      "order": null,
      "overflow": null,
      "overflow_x": null,
      "overflow_y": null,
      "padding": null,
      "right": null,
      "top": null,
      "visibility": null,
      "width": null
     }
    },
    "120d0b5f29e34c158b616aea33706851": {
     "model_module": "@jupyter-widgets/base",
     "model_name": "LayoutModel",
     "state": {
      "_model_module": "@jupyter-widgets/base",
      "_model_module_version": "1.2.0",
      "_model_name": "LayoutModel",
      "_view_count": null,
      "_view_module": "@jupyter-widgets/base",
      "_view_module_version": "1.2.0",
      "_view_name": "LayoutView",
      "align_content": null,
      "align_items": null,
      "align_self": null,
      "border": null,
      "bottom": null,
      "display": null,
      "flex": null,
      "flex_flow": null,
      "grid_area": null,
      "grid_auto_columns": null,
      "grid_auto_flow": null,
      "grid_auto_rows": null,
      "grid_column": null,
      "grid_gap": null,
      "grid_row": null,
      "grid_template_areas": null,
      "grid_template_columns": null,
      "grid_template_rows": null,
      "height": null,
      "justify_content": null,
      "justify_items": null,
      "left": null,
      "margin": null,
      "max_height": null,
      "max_width": null,
      "min_height": null,
      "min_width": null,
      "object_fit": null,
      "object_position": null,
      "order": null,
      "overflow": null,
      "overflow_x": null,
      "overflow_y": null,
      "padding": null,
      "right": null,
      "top": null,
      "visibility": null,
      "width": null
     }
    },
    "22cc57ed6b8a4d269e681ec6b7785d9a": {
     "model_module": "@jupyter-widgets/controls",
     "model_name": "VBoxModel",
     "state": {
      "_dom_classes": [
       "widget-interact"
      ],
      "_model_module": "@jupyter-widgets/controls",
      "_model_module_version": "1.5.0",
      "_model_name": "VBoxModel",
      "_view_count": null,
      "_view_module": "@jupyter-widgets/controls",
      "_view_module_version": "1.5.0",
      "_view_name": "VBoxView",
      "box_style": "",
      "children": [
       "IPY_MODEL_e464c86330454e1e9252522b04316789",
       "IPY_MODEL_3c21d460e751472b88c37630dabee615",
       "IPY_MODEL_f26ca8bbfa42454abbefe5cb1fa42137",
       "IPY_MODEL_fa1be45a75424cdb8c2c79c03a1cce11",
       "IPY_MODEL_09c44ef2f46040549403eba27262b4d1"
      ],
      "layout": "IPY_MODEL_335e833f4a594e5cab03155311fae980"
     }
    },
    "335e833f4a594e5cab03155311fae980": {
     "model_module": "@jupyter-widgets/base",
     "model_name": "LayoutModel",
     "state": {
      "_model_module": "@jupyter-widgets/base",
      "_model_module_version": "1.2.0",
      "_model_name": "LayoutModel",
      "_view_count": null,
      "_view_module": "@jupyter-widgets/base",
      "_view_module_version": "1.2.0",
      "_view_name": "LayoutView",
      "align_content": null,
      "align_items": null,
      "align_self": null,
      "border": null,
      "bottom": null,
      "display": null,
      "flex": null,
      "flex_flow": null,
      "grid_area": null,
      "grid_auto_columns": null,
      "grid_auto_flow": null,
      "grid_auto_rows": null,
      "grid_column": null,
      "grid_gap": null,
      "grid_row": null,
      "grid_template_areas": null,
      "grid_template_columns": null,
      "grid_template_rows": null,
      "height": null,
      "justify_content": null,
      "justify_items": null,
      "left": null,
      "margin": null,
      "max_height": null,
      "max_width": null,
      "min_height": null,
      "min_width": null,
      "object_fit": null,
      "object_position": null,
      "order": null,
      "overflow": null,
      "overflow_x": null,
      "overflow_y": null,
      "padding": null,
      "right": null,
      "top": null,
      "visibility": null,
      "width": null
     }
    },
    "3c21d460e751472b88c37630dabee615": {
     "model_module": "@jupyter-widgets/controls",
     "model_name": "FloatSliderModel",
     "state": {
      "_dom_classes": [],
      "_model_module": "@jupyter-widgets/controls",
      "_model_module_version": "1.5.0",
      "_model_name": "FloatSliderModel",
      "_view_count": null,
      "_view_module": "@jupyter-widgets/controls",
      "_view_module_version": "1.5.0",
      "_view_name": "FloatSliderView",
      "continuous_update": true,
      "description": "shock_A",
      "description_tooltip": null,
      "disabled": false,
      "layout": "IPY_MODEL_8fbb291e956d4adc87993c9de6c5a64f",
      "max": 5,
      "min": 0,
      "orientation": "horizontal",
      "readout": true,
      "readout_format": ".2f",
      "step": 0.1,
      "style": "IPY_MODEL_9dd68d6ff6904872a4a15c5c6c6e1e9a",
      "value": 1.5
     }
    },
    "5f3806f34af041219acfbade0aaa59de": {
     "model_module": "@jupyter-widgets/controls",
     "model_name": "SliderStyleModel",
     "state": {
      "_model_module": "@jupyter-widgets/controls",
      "_model_module_version": "1.5.0",
      "_model_name": "SliderStyleModel",
      "_view_count": null,
      "_view_module": "@jupyter-widgets/base",
      "_view_module_version": "1.2.0",
      "_view_name": "StyleView",
      "description_width": "",
      "handle_color": null
     }
    },
    "623fa102f35d4528a7f64361a4cc3fcb": {
     "model_module": "@jupyter-widgets/base",
     "model_name": "LayoutModel",
     "state": {
      "_model_module": "@jupyter-widgets/base",
      "_model_module_version": "1.2.0",
      "_model_name": "LayoutModel",
      "_view_count": null,
      "_view_module": "@jupyter-widgets/base",
      "_view_module_version": "1.2.0",
      "_view_name": "LayoutView",
      "align_content": null,
      "align_items": null,
      "align_self": null,
      "border": null,
      "bottom": null,
      "display": null,
      "flex": null,
      "flex_flow": null,
      "grid_area": null,
      "grid_auto_columns": null,
      "grid_auto_flow": null,
      "grid_auto_rows": null,
      "grid_column": null,
      "grid_gap": null,
      "grid_row": null,
      "grid_template_areas": null,
      "grid_template_columns": null,
      "grid_template_rows": null,
      "height": null,
      "justify_content": null,
      "justify_items": null,
      "left": null,
      "margin": null,
      "max_height": null,
      "max_width": null,
      "min_height": null,
      "min_width": null,
      "object_fit": null,
      "object_position": null,
      "order": null,
      "overflow": null,
      "overflow_x": null,
      "overflow_y": null,
      "padding": null,
      "right": null,
      "top": null,
      "visibility": null,
      "width": null
     }
    },
    "8fbb291e956d4adc87993c9de6c5a64f": {
     "model_module": "@jupyter-widgets/base",
     "model_name": "LayoutModel",
     "state": {
      "_model_module": "@jupyter-widgets/base",
      "_model_module_version": "1.2.0",
      "_model_name": "LayoutModel",
      "_view_count": null,
      "_view_module": "@jupyter-widgets/base",
      "_view_module_version": "1.2.0",
      "_view_name": "LayoutView",
      "align_content": null,
      "align_items": null,
      "align_self": null,
      "border": null,
      "bottom": null,
      "display": null,
      "flex": null,
      "flex_flow": null,
      "grid_area": null,
      "grid_auto_columns": null,
      "grid_auto_flow": null,
      "grid_auto_rows": null,
      "grid_column": null,
      "grid_gap": null,
      "grid_row": null,
      "grid_template_areas": null,
      "grid_template_columns": null,
      "grid_template_rows": null,
      "height": null,
      "justify_content": null,
      "justify_items": null,
      "left": null,
      "margin": null,
      "max_height": null,
      "max_width": null,
      "min_height": null,
      "min_width": null,
      "object_fit": null,
      "object_position": null,
      "order": null,
      "overflow": null,
      "overflow_x": null,
      "overflow_y": null,
      "padding": null,
      "right": null,
      "top": null,
      "visibility": null,
      "width": null
     }
    },
    "9bac82d00e6c43da83e68c88be7ea2e1": {
     "model_module": "@jupyter-widgets/base",
     "model_name": "LayoutModel",
     "state": {
      "_model_module": "@jupyter-widgets/base",
      "_model_module_version": "1.2.0",
      "_model_name": "LayoutModel",
      "_view_count": null,
      "_view_module": "@jupyter-widgets/base",
      "_view_module_version": "1.2.0",
      "_view_name": "LayoutView",
      "align_content": null,
      "align_items": null,
      "align_self": null,
      "border": null,
      "bottom": null,
      "display": null,
      "flex": null,
      "flex_flow": null,
      "grid_area": null,
      "grid_auto_columns": null,
      "grid_auto_flow": null,
      "grid_auto_rows": null,
      "grid_column": null,
      "grid_gap": null,
      "grid_row": null,
      "grid_template_areas": null,
      "grid_template_columns": null,
      "grid_template_rows": null,
      "height": null,
      "justify_content": null,
      "justify_items": null,
      "left": null,
      "margin": null,
      "max_height": null,
      "max_width": null,
      "min_height": null,
      "min_width": null,
      "object_fit": null,
      "object_position": null,
      "order": null,
      "overflow": null,
      "overflow_x": null,
      "overflow_y": null,
      "padding": null,
      "right": null,
      "top": null,
      "visibility": null,
      "width": null
     }
    },
    "9dd68d6ff6904872a4a15c5c6c6e1e9a": {
     "model_module": "@jupyter-widgets/controls",
     "model_name": "SliderStyleModel",
     "state": {
      "_model_module": "@jupyter-widgets/controls",
      "_model_module_version": "1.5.0",
      "_model_name": "SliderStyleModel",
      "_view_count": null,
      "_view_module": "@jupyter-widgets/base",
      "_view_module_version": "1.2.0",
      "_view_name": "StyleView",
      "description_width": "",
      "handle_color": null
     }
    },
    "aa7daefc17e4471d9d1b0ede6ba3aac7": {
     "model_module": "@jupyter-widgets/controls",
     "model_name": "SliderStyleModel",
     "state": {
      "_model_module": "@jupyter-widgets/controls",
      "_model_module_version": "1.5.0",
      "_model_name": "SliderStyleModel",
      "_view_count": null,
      "_view_module": "@jupyter-widgets/base",
      "_view_module_version": "1.2.0",
      "_view_name": "StyleView",
      "description_width": "",
      "handle_color": null
     }
    },
    "e464c86330454e1e9252522b04316789": {
     "model_module": "@jupyter-widgets/controls",
     "model_name": "IntSliderModel",
     "state": {
      "_dom_classes": [],
      "_model_module": "@jupyter-widgets/controls",
      "_model_module_version": "1.5.0",
      "_model_name": "IntSliderModel",
      "_view_count": null,
      "_view_module": "@jupyter-widgets/controls",
      "_view_module_version": "1.5.0",
      "_view_name": "IntSliderView",
      "continuous_update": true,
      "description": "T",
      "description_tooltip": null,
      "disabled": false,
      "layout": "IPY_MODEL_120d0b5f29e34c158b616aea33706851",
      "max": 200,
      "min": 10,
      "orientation": "horizontal",
      "readout": true,
      "readout_format": "d",
      "step": 1,
      "style": "IPY_MODEL_5f3806f34af041219acfbade0aaa59de",
      "value": 99
     }
    },
    "f26ca8bbfa42454abbefe5cb1fa42137": {
     "model_module": "@jupyter-widgets/controls",
     "model_name": "FloatSliderModel",
     "state": {
      "_dom_classes": [],
      "_model_module": "@jupyter-widgets/controls",
      "_model_module_version": "1.5.0",
      "_model_name": "FloatSliderModel",
      "_view_count": null,
      "_view_module": "@jupyter-widgets/controls",
      "_view_module_version": "1.5.0",
      "_view_name": "FloatSliderView",
      "continuous_update": true,
      "description": "shock_G",
      "description_tooltip": null,
      "disabled": false,
      "layout": "IPY_MODEL_1064fce88d644c04a3fbdfeb1ad9d030",
      "max": 5,
      "min": 0,
      "orientation": "horizontal",
      "readout": true,
      "readout_format": ".2f",
      "step": 0.1,
      "style": "IPY_MODEL_aa7daefc17e4471d9d1b0ede6ba3aac7",
      "value": 0
     }
    },
    "fa1be45a75424cdb8c2c79c03a1cce11": {
     "model_module": "@jupyter-widgets/controls",
     "model_name": "SelectMultipleModel",
     "state": {
      "_dom_classes": [],
      "_model_module": "@jupyter-widgets/controls",
      "_model_module_version": "1.5.0",
      "_model_name": "SelectMultipleModel",
      "_options_labels": [
       "Technology",
       "Government spending",
       "Capital",
       "Consumption",
       "Labor",
       "Output"
      ],
      "_view_count": null,
      "_view_module": "@jupyter-widgets/controls",
      "_view_module_version": "1.5.0",
      "_view_name": "SelectMultipleView",
      "description": "variables_to_plot",
      "description_tooltip": null,
      "disabled": false,
      "index": [
       0,
       2,
       3,
       4
      ],
      "layout": "IPY_MODEL_623fa102f35d4528a7f64361a4cc3fcb",
      "rows": 5,
      "style": "IPY_MODEL_0df69209240644a7ac8353022a0f7a2a"
     }
    }
   }
  }
 },
 "nbformat": 4,
 "nbformat_minor": 4
}
